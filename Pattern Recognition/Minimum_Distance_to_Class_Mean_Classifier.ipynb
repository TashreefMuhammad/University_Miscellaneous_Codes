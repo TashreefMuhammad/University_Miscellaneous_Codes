{
  "nbformat": 4,
  "nbformat_minor": 0,
  "metadata": {
    "colab": {
      "name": "170104014.ipynb",
      "provenance": [],
      "collapsed_sections": [],
      "toc_visible": true,
      "authorship_tag": "ABX9TyNJwRob/P5zdydKySc0b+De",
      "include_colab_link": true
    },
    "kernelspec": {
      "name": "python3",
      "display_name": "Python 3"
    },
    "language_info": {
      "name": "python"
    }
  },
  "cells": [
    {
      "cell_type": "markdown",
      "metadata": {
        "id": "view-in-github",
        "colab_type": "text"
      },
      "source": [
        "<a href=\"https://colab.research.google.com/github/TashreefMuhammad/University_Miscellaneous_Codes/blob/main/Minimum_Distance_to_Class_Mean_Classifier.ipynb\" target=\"_parent\"><img src=\"https://colab.research.google.com/assets/colab-badge.svg\" alt=\"Open In Colab\"/></a>"
      ]
    },
    {
      "cell_type": "markdown",
      "metadata": {
        "id": "oJYJJMfTMneZ"
      },
      "source": [
        "# <font color='yellow'>**CSE 4214 | Pattern Lab | Assignment 1**</font>"
      ]
    },
    {
      "cell_type": "markdown",
      "metadata": {
        "id": "kI9-rzV6EiNH"
      },
      "source": [
        "## Adding Files\n",
        "\n",
        "Adding training and testing files to the *Notebook*"
      ]
    },
    {
      "cell_type": "markdown",
      "metadata": {
        "id": "P8l6lVKME4v-"
      },
      "source": [
        "### Downloading from Drive\n",
        "\n",
        "The following cell will directly downlod the files from drive and add it to the location files part in Colaboratory."
      ]
    },
    {
      "cell_type": "code",
      "metadata": {
        "colab": {
          "base_uri": "https://localhost:8080/"
        },
        "id": "xDpJolaYAcOc",
        "outputId": "d27a5a8e-ad60-4154-a96c-167b895dc6f6"
      },
      "source": [
        "# Downloading Training File from the following link\n",
        "# https://drive.google.com/file/d/1GbUKjliP_Cy95zx-NNKot7Y08DsbEAD_/view?usp=sharing\n",
        "!gdown --id 1GbUKjliP_Cy95zx-NNKot7Y08DsbEAD_\n",
        "\n",
        "# Downloading Training File from the following link\n",
        "# https://drive.google.com/file/d/1oHr-Ns9KQGTexTbOhO4MhLqGKrRRhaQ2/view?usp=sharing\n",
        "!gdown --id 1oHr-Ns9KQGTexTbOhO4MhLqGKrRRhaQ2"
      ],
      "execution_count": null,
      "outputs": [
        {
          "output_type": "stream",
          "text": [
            "Downloading...\n",
            "From: https://drive.google.com/uc?id=1GbUKjliP_Cy95zx-NNKot7Y08DsbEAD_\n",
            "To: /content/test.txt\n",
            "100% 52.0/52.0 [00:00<00:00, 110kB/s]\n",
            "Downloading...\n",
            "From: https://drive.google.com/uc?id=1oHr-Ns9KQGTexTbOhO4MhLqGKrRRhaQ2\n",
            "To: /content/train.txt\n",
            "100% 91.0/91.0 [00:00<00:00, 167kB/s]\n"
          ],
          "name": "stdout"
        }
      ]
    },
    {
      "cell_type": "markdown",
      "metadata": {
        "id": "IWlhPTwQFLpf"
      },
      "source": [
        "### Mounting Drive\n",
        "The following cell will mount a Google Drive (the one that is chosen) to the files section in Colaboratory"
      ]
    },
    {
      "cell_type": "code",
      "metadata": {
        "id": "LqmMKLMHEFNw"
      },
      "source": [
        "# from google.colab import drive\n",
        "\n",
        "# drive.mount('/content/gdrive')"
      ],
      "execution_count": null,
      "outputs": []
    },
    {
      "cell_type": "markdown",
      "metadata": {
        "id": "LKRfeImwGABm"
      },
      "source": [
        "### Helping Variable ${\\Rightarrow}$ PATH\n",
        "\n",
        "A variable named **PATH** is added as there are two ways to include train and test data in this notebook. Selecting the appropriate option shall help the whole notebook to work. It is added so that not much of the code will be needed to be changed no matter what option is chosen for file handling.\n",
        "\n",
        "Comment the line that will not be used and keep the other uncommented. The code will execute correctly then."
      ]
    },
    {
      "cell_type": "code",
      "metadata": {
        "id": "-mKmemamFwhO"
      },
      "source": [
        "# For using the Download option\n",
        "PATH = '/content/'\n",
        "\n",
        "# For using the Mounting Drive option\n",
        "## Replace <your_dir> from  '/content/gdrive/MyDrive/<your_dir>/' with the \n",
        "## directory in your drive where the data is situated.\n",
        "# PATH = '/content/gdrive/MyDrive/University Semester Uploads/4.2/Lab/CSE 4214/Assignment 1/'"
      ],
      "execution_count": null,
      "outputs": []
    },
    {
      "cell_type": "markdown",
      "metadata": {
        "id": "YublBodSIRgW"
      },
      "source": [
        "## Importing Libraries\n",
        "\n",
        "Importing all the necessarry libraries that will be needed in this Notebook"
      ]
    },
    {
      "cell_type": "code",
      "metadata": {
        "id": "sy-0t6YBHnoO"
      },
      "source": [
        "import pandas as pd\n",
        "import numpy as np\n",
        "import matplotlib.pyplot as plt"
      ],
      "execution_count": null,
      "outputs": []
    },
    {
      "cell_type": "markdown",
      "metadata": {
        "id": "1vFIu9aMNzOi"
      },
      "source": [
        "## <font color = 'skyblue'>**Assignmnet Part 1**</font>"
      ]
    },
    {
      "cell_type": "markdown",
      "metadata": {
        "id": "XPFMr3FWOer0"
      },
      "source": [
        "### Training and Testing Data\n",
        "\n",
        "Retriving training nd testing data and dividing them into featuress and labels"
      ]
    },
    {
      "cell_type": "code",
      "metadata": {
        "id": "cDvCgYJ2IgaJ"
      },
      "source": [
        "train_data = pd.read_csv(PATH + 'train.txt', sep = ' ', header = None)\n",
        "\n",
        "test_data = pd.read_csv(PATH + 'test.txt', sep = ' ', header = None)\n",
        "\n",
        "train_X = train_data.iloc[:, 0:2]\n",
        "train_Y = train_data.iloc[:, 2]\n",
        "train_X = np.array(train_X)\n",
        "train_Y = np.array(train_Y)\n",
        "\n",
        "test_X = test_data.iloc[:, 0:2]\n",
        "test_Y = test_data.iloc[:, 2]\n",
        "test_X = np.array(test_X)\n",
        "test_Y = np.array(test_Y)\n",
        "\n",
        "# # To check if data is successfully retrieved\n",
        "# print(train_data)\n",
        "# print(test_data)\n",
        "# print(train_X)\n",
        "# print(train_Y)\n",
        "# print(test_X)\n",
        "# print(test_Y)"
      ],
      "execution_count": null,
      "outputs": []
    },
    {
      "cell_type": "markdown",
      "metadata": {
        "id": "l3DtkRlKXCcd"
      },
      "source": [
        "### Splitting Training Data\n",
        "\n",
        "Splitting training data into classes according to labels"
      ]
    },
    {
      "cell_type": "code",
      "metadata": {
        "id": "M68ENPEBXFAy"
      },
      "source": [
        "class1_X1, class1_X2, class2_X1, class2_X2 = [], [], [], []\n",
        "\n",
        "for i in range(train_X.shape[0]):\n",
        "  if train_Y[i] == 1:\n",
        "    class1_X1.append(train_X[i, 0])\n",
        "    class1_X2.append(train_X[i, 1])\n",
        "  else:\n",
        "    class2_X1.append(train_X[i, 0])\n",
        "    class2_X2.append(train_X[i, 1])"
      ],
      "execution_count": null,
      "outputs": []
    },
    {
      "cell_type": "markdown",
      "metadata": {
        "id": "4OqUNcud2fte"
      },
      "source": [
        "### Plotting Training Data\n",
        "\n",
        "Plotting the training data. There are two classes and they are shown.\n",
        "\n",
        "Help was taken from [this link](https://matplotlib.org/stable/api/markers_api.html) for designing the plot"
      ]
    },
    {
      "cell_type": "code",
      "metadata": {
        "colab": {
          "base_uri": "https://localhost:8080/",
          "height": 320
        },
        "id": "HR7qLtrbKA_m",
        "outputId": "fc036656-771d-42e0-8f36-d822275ed820"
      },
      "source": [
        "limit_X1 = class1_X1 + class2_X1\n",
        "limit_X2 = class1_X2 + class2_X2\n",
        "\n",
        "plt.figure(figsize = (10, 5))\n",
        "# Training Data\n",
        "plt.scatter(class1_X1, class1_X2, label = 'Train Class 1', color = 'red', marker = 'o')\n",
        "plt.scatter(class2_X1, class2_X2, label = 'Train Class 2', color = 'black', marker = '*')\n",
        "# Plot Accessory\n",
        "plt.xticks([i for i in range(min(limit_X1) - 1, max(limit_X1) + 1)])\n",
        "plt.yticks([i for i in range(min(limit_X2) - 1, max(limit_X2) + 1)])\n",
        "plt.legend(loc = 'upper center')\n",
        "plt.show()"
      ],
      "execution_count": null,
      "outputs": [
        {
          "output_type": "display_data",
          "data": {
            "image/png": "[encoded data removed]",
            "text/plain": [
              "<Figure size 720x360 with 1 Axes>"
            ]
          },
          "metadata": {
            "tags": [],
            "needs_background": "light"
          }
        }
      ]
    },
    {
      "cell_type": "markdown",
      "metadata": {
        "id": "yTPKhwBwOGii"
      },
      "source": [
        "## <font color = 'skyblue'>**Assignment Part 2**</font>"
      ]
    },
    {
      "cell_type": "markdown",
      "metadata": {
        "id": "8Z0SpSi6PKJC"
      },
      "source": [
        "### Finding Mean Point\n",
        "\n",
        "Finding the mean point for the 2 classes and store them in a $2\\times2$ matrix.\n",
        "If mean point of class 1 is $(x_1,y_1)$ and for class 2 is $(x_2, y_2)$ \n",
        "\n",
        "\\begin{equation*}\n",
        "means = \n",
        "\\begin{bmatrix}\n",
        "x_1 & y_1 \\\\\n",
        "x_2 & y_2 \\\\\n",
        "\\end{bmatrix}\n",
        "\\end{equation*}\n",
        "\n",
        "Also, a variable *laterPart* is kept that will be used while finding $g(x)$ that is like below\n",
        "\n",
        "\\begin{equation*}\n",
        "laterPart = \n",
        "\\begin{bmatrix}\n",
        "{x_1}^2 + {y_1}^2 & {x_2}^2 + {y_2}^2 \\\\\n",
        "\\end{bmatrix}\\\\\n",
        "\\Rightarrow laterPart =\n",
        "\\begin{bmatrix}\n",
        "point1 & point2\n",
        "\\end{bmatrix}\n",
        "\\end{equation*}"
      ]
    },
    {
      "cell_type": "code",
      "metadata": {
        "id": "46kiL1GeN7Ym"
      },
      "source": [
        "means = np.zeros((2, 2))\n",
        "\n",
        "means[0, 0] = np.mean(class1_X1)\n",
        "means[0, 1] = np.mean(class1_X2)\n",
        "means[1, 0] = np.mean(class2_X1)\n",
        "means[1, 1] = np.mean(class2_X2)\n",
        "\n",
        "laterpartClass1 = np.dot(means[0, :].T, means[0, :])\n",
        "laterpartClass2 = np.dot(means[1, :].T, means[1, :])\n",
        "laterPart = np.hstack((np.array(laterpartClass1), np.array(laterpartClass2)))\n",
        "\n",
        "# # Check values produced\n",
        "# print(means)\n",
        "# print(laterpartClass1)\n",
        "# print(laterpartClass2)\n",
        "# print(laterPart)"
      ],
      "execution_count": null,
      "outputs": []
    },
    {
      "cell_type": "markdown",
      "metadata": {
        "id": "Z_FpQBkFRCCT"
      },
      "source": [
        "### Calculating $g(x)$\n",
        "Calculating $g(x)$ for both classes using matrix multiplication.\n",
        "For ease of calculation, feature matrix $X$ is a $N \\times 2$ matrix where $N$ is the number of points for training. Each row of $X$ contains features for one point.\n",
        "\n",
        "\\begin{equation*}\n",
        "g(x) = X \\times means^T - \\frac{1}{2} \\times lastPart \\\\\n",
        "\\Rightarrow g(x) = \n",
        "\\begin{bmatrix}\n",
        "a_1 & a_2 \\\\\n",
        "b_1 & b_2 \\\\\n",
        "c_1 & c_2 \\\\\n",
        ". & . \\\\\n",
        ". & . \\\\\n",
        ". & .\n",
        "\\end{bmatrix}\n",
        "\\times\n",
        "\\begin{bmatrix}\n",
        "x_1 & y_1 \\\\\n",
        "x_2 & y_2 \\\\\n",
        "\\end{bmatrix}^T\n",
        "- \\frac{1}{2} \\times\n",
        "\\begin{bmatrix}\n",
        "point1 & point2\n",
        "\\end{bmatrix}\n",
        "\\end{equation*}\n",
        "\n",
        "The resulting size of $g(x)$ is $N \\times 2$ where each row contains value of $g(x)$ for each of the classes. Column 1 is value for $1^{st}$ class and Column 2 is value for $2^{nd}$ class. The results achieved from here are similar to the one required by the equation given in the assignment\n",
        "\n",
        "After that, the prediction list is developed by observing which value of $g(x)$ is lower among the two."
      ]
    },
    {
      "cell_type": "code",
      "metadata": {
        "id": "POIab2dLVW-O"
      },
      "source": [
        "g = np.dot(test_X, means.T) - 0.5 * np.hstack((np.array(laterpartClass1), np.array(laterpartClass2)))\n",
        "pred = []\n",
        "\n",
        "for i in g:\n",
        "  if i[0] > i[1]:\n",
        "    pred.append(1)\n",
        "  else:\n",
        "    pred.append(2)\n",
        "\n",
        "# # Check values produced\n",
        "# print(g)\n",
        "# print(pred)"
      ],
      "execution_count": null,
      "outputs": []
    },
    {
      "cell_type": "markdown",
      "metadata": {
        "id": "4e52Q_xlWlgL"
      },
      "source": [
        "### Splitting Test into Classes\n",
        "\n",
        "Splitting the test values into classes as per prediction."
      ]
    },
    {
      "cell_type": "code",
      "metadata": {
        "id": "Urf1l-jlVhP-"
      },
      "source": [
        "test_class1_X1, test_class1_X2, test_class2_X1, test_class2_X2 = [], [], [], []\n",
        "\n",
        "for i in range(test_X.shape[0]):\n",
        "  if pred[i] == 1:\n",
        "    test_class1_X1.append(test_X[i, 0])\n",
        "    test_class1_X2.append(test_X[i, 1])\n",
        "  else:\n",
        "    test_class2_X1.append(test_X[i, 0])\n",
        "    test_class2_X2.append(test_X[i, 1])"
      ],
      "execution_count": null,
      "outputs": []
    },
    {
      "cell_type": "markdown",
      "metadata": {
        "id": "ct9X8f_KXjKa"
      },
      "source": [
        "### Plotting Predicted Testing Data\n",
        "\n",
        "Plotting the predicted class based testing data. There are two classes and they are shown."
      ]
    },
    {
      "cell_type": "code",
      "metadata": {
        "colab": {
          "base_uri": "https://localhost:8080/",
          "height": 324
        },
        "id": "VszqxoRaOQKp",
        "outputId": "7b9b75bc-5c28-4ea7-9166-0acfd3e3aadf"
      },
      "source": [
        "limit_X1 = limit_X1 + test_class1_X1 + test_class2_X1\n",
        "limit_X2 = limit_X2 + test_class1_X2 + test_class2_X2\n",
        "\n",
        "plt.figure(figsize = (10, 5))\n",
        "#Training Data\n",
        "plt.scatter(class1_X1, class1_X2, label = 'Train Class 1', color = 'red', marker = 'o')\n",
        "plt.scatter(class2_X1, class2_X2, label = 'Train Class 2', color = 'black', marker = '*')\n",
        "# Means Data\n",
        "plt.scatter(means[0, 0], means[0, 1], label = 'Means Class 1', color = 'red', marker = '1')\n",
        "plt.scatter(means[1, 0], means[1, 1], label = 'Means Class 2', color = 'black', marker = 's')\n",
        "# Test Data\n",
        "plt.scatter(test_class1_X1, test_class1_X2, label = 'Test Class 1', color = 'red', marker = 'P')\n",
        "plt.scatter(test_class2_X1, test_class2_X2, label = 'Test Class 2', color = 'black', marker = 'X')\n",
        "# Plot Accessory\n",
        "plt.xticks([i for i in range(min(limit_X1) - 1, max(limit_X1) + 1)])\n",
        "plt.yticks([i for i in range(-10, 21, 5)])\n",
        "plt.legend(ncol = 3, loc = 'upper center')\n",
        "plt.show()"
      ],
      "execution_count": null,
      "outputs": [
        {
          "output_type": "display_data",
          "data": {
            "image/png": "[encoded data removed]",
            "text/plain": [
              "<Figure size 720x360 with 1 Axes>"
            ]
          },
          "metadata": {
            "tags": [],
            "needs_background": "light"
          }
        }
      ]
    },
    {
      "cell_type": "markdown",
      "metadata": {
        "id": "7cur7fAEOaSS"
      },
      "source": [
        "## <font color = 'skyblue'>**Assignment Part 3**</font>"
      ]
    },
    {
      "cell_type": "markdown",
      "metadata": {
        "id": "Stge1NdAXwsa"
      },
      "source": [
        "### Finding Value for Decision Boundary\n",
        "\n",
        "In order to plot decision boundary, many values of both dimension is taken and was tested against mean point of both classes. If the difference value is found to be less than $0.15$, then it is considered a point in the decision boundary. Such points values are stored."
      ]
    },
    {
      "cell_type": "code",
      "metadata": {
        "id": "v-Mj0hj_YBw-"
      },
      "source": [
        "boundary_X1 = []\n",
        "boundary_X2 = []\n",
        "\n",
        "for i in range(5 * (-10), 5 * (10)):\n",
        "  for j in range(5 * (-10), 5 * (20)):\n",
        "    if abs(((means[0, 0] - i / 5) ** 2 + (means[0, 1] - j / 5) ** 2) - ((means[1, 0] - i / 5) ** 2 + (means[1, 1] - j / 5) ** 2)) < 0.15:\n",
        "      boundary_X1.append(i / 5)\n",
        "      boundary_X2.append(j / 5)\n",
        "\n",
        "# # Check values produced\n",
        "# print(boundary_X1)\n",
        "# print(boundary_X2)"
      ],
      "execution_count": null,
      "outputs": []
    },
    {
      "cell_type": "markdown",
      "metadata": {
        "id": "thOAJuUKZUtD"
      },
      "source": [
        "### Plotting All Data\n",
        "The final data is plotted alongside decision boundary"
      ]
    },
    {
      "cell_type": "code",
      "metadata": {
        "colab": {
          "base_uri": "https://localhost:8080/",
          "height": 320
        },
        "id": "AUfW2aZyiOUv",
        "outputId": "ace0388b-c1fd-48d6-bf7b-5a484cd314a7"
      },
      "source": [
        "plt.figure(figsize = (10, 5))\n",
        "# Decision Boundary\n",
        "plt.plot(boundary_X1, boundary_X2, label = 'Decision Boundary', color = 'red', linestyle = '--')\n",
        "#Training Data\n",
        "plt.scatter(class1_X1, class1_X2, label = 'Train Class 1', color = 'red', marker = 'o')\n",
        "plt.scatter(class2_X1, class2_X2, label = 'Train Class 2', color = 'black', marker = '*')\n",
        "# Means Data\n",
        "plt.scatter(means[0, 0], means[0, 1], label = 'Means Class 1', color = 'red', marker = '1')\n",
        "plt.scatter(means[1, 0], means[1, 1], label = 'Means Class 2', color = 'black', marker = 's')\n",
        "# Test Data\n",
        "plt.scatter(test_class1_X1, test_class1_X2, label = 'Test Class 1', color = 'red', marker = 'P')\n",
        "plt.scatter(test_class2_X1, test_class2_X2, label = 'Test Class 2', color = 'black', marker = 'X')\n",
        "# Plot Accessory\n",
        "plt.xticks([i for i in range(min(limit_X1) - 1, max(limit_X1) + 1)])\n",
        "plt.yticks([i for i in range(-10, 21, 5)])\n",
        "plt.legend(ncol = 3, loc = 'upper center')\n",
        "plt.show()"
      ],
      "execution_count": null,
      "outputs": [
        {
          "output_type": "display_data",
          "data": {
            "image/png": "[encoded data removed]",
            "text/plain": [
              "<Figure size 720x360 with 1 Axes>"
            ]
          },
          "metadata": {
            "tags": [],
            "needs_background": "light"
          }
        }
      ]
    },
    {
      "cell_type": "markdown",
      "metadata": {
        "id": "tzngbQAKOprW"
      },
      "source": [
        "<font color = 'skyblue'>**Assignmnet Part 4**</font>"
      ]
    },
    {
      "cell_type": "markdown",
      "metadata": {
        "id": "_O21wjufZ3bi"
      },
      "source": [
        "### Calculating Accuracy\n",
        "\n",
        "Calculating the accuracy of prediction"
      ]
    },
    {
      "cell_type": "code",
      "metadata": {
        "colab": {
          "base_uri": "https://localhost:8080/"
        },
        "id": "c9ckb5rpLbkU",
        "outputId": "60726e4b-a370-4438-a534-51447de2c9ff"
      },
      "source": [
        "# # Checking outcome\n",
        "# print(test_Y == pred)\n",
        "# print(np.count_nonzero(test_Y == pred))\n",
        "\n",
        "acc = np.count_nonzero(test_Y == pred) / test_Y.shape[0]\n",
        "print('Accuracy is: {:.2f}%'.format(acc * 100))"
      ],
      "execution_count": null,
      "outputs": [
        {
          "output_type": "stream",
          "text": [
            "Accuracy is: 85.71%\n"
          ],
          "name": "stdout"
        }
      ]
    },
    {
      "cell_type": "markdown",
      "metadata": {
        "id": "tH_5ym1K1P8Y"
      },
      "source": [
        "The final accuract was found to be $85.71\\%$ and a total of $6$ points were predicted correctly among the given $7$ test points. \\\\\n",
        "<br>\n",
        "<br>\n",
        "<font color = 'yellow'> <center>$\\Large\\text{The End}$</center> </font>"
      ]
    }
  ]
}