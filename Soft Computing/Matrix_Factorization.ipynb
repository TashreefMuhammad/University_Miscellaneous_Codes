{
  "nbformat": 4,
  "nbformat_minor": 0,
  "metadata": {
    "kernelspec": {
      "display_name": "Python 3",
      "language": "python",
      "name": "python3"
    },
    "language_info": {
      "codemirror_mode": {
        "name": "ipython",
        "version": 3
      },
      "file_extension": ".py",
      "mimetype": "text/x-python",
      "name": "python",
      "nbconvert_exporter": "python",
      "pygments_lexer": "ipython3",
      "version": "3.7.10"
    },
    "colab": {
      "name": "Matrix Factorization.ipynb",
      "provenance": [],
      "include_colab_link": true
    }
  },
  "cells": [
    {
      "cell_type": "markdown",
      "metadata": {
        "id": "view-in-github",
        "colab_type": "text"
      },
      "source": [
        "<a href=\"https://colab.research.google.com/github/TashreefMuhammad/University_Miscellaneous_Codes/blob/main/Matrix_Factorization.ipynb\" target=\"_parent\"><img src=\"https://colab.research.google.com/assets/colab-badge.svg\" alt=\"Open In Colab\"/></a>"
      ]
    },
    {
      "cell_type": "markdown",
      "metadata": {
        "id": "aMAJAFV0UX4H"
      },
      "source": [
        "# <font color = 'skyblue'>CSE 4238 : Soft Computing Lab</font>\n"
      ]
    },
    {
      "cell_type": "markdown",
      "metadata": {
        "id": "BSb79YW9gv5o"
      },
      "source": [
        "## <font color = 'navyblue'>Assignment 01: Matrix Factorization</font>\n",
        "\n"
      ]
    },
    {
      "cell_type": "markdown",
      "metadata": {
        "id": "KswXlDazgxqL"
      },
      "source": [
        "### Download Data\n",
        "Download the Data from drive"
      ]
    },
    {
      "cell_type": "code",
      "metadata": {
        "execution": {
          "iopub.execute_input": "2021-07-21T11:35:49.963853Z",
          "iopub.status.busy": "2021-07-21T11:35:49.963063Z",
          "iopub.status.idle": "2021-07-21T11:36:17.692857Z",
          "shell.execute_reply": "2021-07-21T11:36:17.691911Z",
          "shell.execute_reply.started": "2021-07-21T11:35:49.963658Z"
        },
        "id": "jgEAXzoADX-F"
      },
      "source": [
        "# Install gdown\n",
        "\n",
        "#======== For Kaggle and / or Colab\n",
        "! pip install gdown\n",
        "# Download index_id.csv from the url => \n",
        "# https://drive.google.com/file/d/1ENbB5srTy8_y5qDvOVNwHjAXgPW6BJiZ/view?usp=sharing\n",
        "!gdown --id 1ENbB5srTy8_y5qDvOVNwHjAXgPW6BJiZ\n",
        "\n",
        "# # Download Matrix_Factorization_Assignment.csv from the url => \n",
        "# https://drive.google.com/file/d/1ENbB5srTy8_y5qDvOVNwHjAXgPW6BJiZ/view?usp=sharing\n",
        "!gdown --id 1lzG9JhF-8Smr87ZlhHdnA-Fgx4JlyQXW"
      ],
      "execution_count": null,
      "outputs": []
    },
    {
      "cell_type": "markdown",
      "metadata": {
        "id": "343KUt9vgmmM"
      },
      "source": [
        "### Import Libraries\n",
        "\n",
        "Import required libraries"
      ]
    },
    {
      "cell_type": "code",
      "metadata": {
        "execution": {
          "iopub.execute_input": "2021-07-21T11:36:17.694698Z",
          "iopub.status.busy": "2021-07-21T11:36:17.694381Z",
          "iopub.status.idle": "2021-07-21T11:36:18.943829Z",
          "shell.execute_reply": "2021-07-21T11:36:18.942271Z",
          "shell.execute_reply.started": "2021-07-21T11:36:17.694664Z"
        },
        "id": "WxASYOp4FDvS"
      },
      "source": [
        "import pandas as pd\n",
        "import numpy as np\n",
        "import matplotlib.pyplot as plt\n",
        "from sklearn.metrics import mean_squared_error\n",
        "from sklearn.metrics.pairwise import cosine_similarity"
      ],
      "execution_count": null,
      "outputs": []
    },
    {
      "cell_type": "markdown",
      "metadata": {
        "id": "igWhRHYRg2Cx"
      },
      "source": [
        "### Extracting Data to DataFrame\n",
        "\n",
        "Retirieving data from CSV and saving them in DataFrame"
      ]
    },
    {
      "cell_type": "code",
      "metadata": {
        "execution": {
          "iopub.execute_input": "2021-07-21T11:36:18.946437Z",
          "iopub.status.busy": "2021-07-21T11:36:18.946091Z",
          "iopub.status.idle": "2021-07-21T11:37:24.537423Z",
          "shell.execute_reply": "2021-07-21T11:37:24.536216Z",
          "shell.execute_reply.started": "2021-07-21T11:36:18.946404Z"
        },
        "id": "5CK6JwORFGHp",
        "outputId": "b8281601-e5a1-4771-a437-fd25102e7afc"
      },
      "source": [
        "indexDataFrame = pd.read_csv('index_id.csv')\n",
        "\n",
        "# infoArray = indexDataFrame[indexDataFrame['Student Id'] == 170104014].values\n",
        "# print(infoArray)\n",
        "\n",
        "ind_id = indexDataFrame[indexDataFrame['Student Id'] == 170104014].values[0][2]\n",
        "print(ind_id)\n",
        "\n",
        "data = pd.read_csv('Matrix_Factorization_Assignment.csv')\n",
        "data"
      ],
      "execution_count": null,
      "outputs": [
        {
          "output_type": "stream",
          "text": [
            "261\n"
          ],
          "name": "stdout"
        },
        {
          "output_type": "execute_result",
          "data": {
            "text/html": [
              "<div>\n",
              "<style scoped>\n",
              "    .dataframe tbody tr th:only-of-type {\n",
              "        vertical-align: middle;\n",
              "    }\n",
              "\n",
              "    .dataframe tbody tr th {\n",
              "        vertical-align: top;\n",
              "    }\n",
              "\n",
              "    .dataframe thead th {\n",
              "        text-align: right;\n",
              "    }\n",
              "</style>\n",
              "<table border=\"1\" class=\"dataframe\">\n",
              "  <thead>\n",
              "    <tr style=\"text-align: right;\">\n",
              "      <th></th>\n",
              "      <th>Index</th>\n",
              "      <th>0</th>\n",
              "      <th>1</th>\n",
              "      <th>2</th>\n",
              "      <th>3</th>\n",
              "      <th>4</th>\n",
              "      <th>5</th>\n",
              "      <th>6</th>\n",
              "      <th>7</th>\n",
              "      <th>8</th>\n",
              "      <th>...</th>\n",
              "      <th>4990</th>\n",
              "      <th>4991</th>\n",
              "      <th>4992</th>\n",
              "      <th>4993</th>\n",
              "      <th>4994</th>\n",
              "      <th>4995</th>\n",
              "      <th>4996</th>\n",
              "      <th>4997</th>\n",
              "      <th>4998</th>\n",
              "      <th>4999</th>\n",
              "    </tr>\n",
              "  </thead>\n",
              "  <tbody>\n",
              "    <tr>\n",
              "      <th>0</th>\n",
              "      <td>11071</td>\n",
              "      <td>1.0</td>\n",
              "      <td>7.0</td>\n",
              "      <td>1.0</td>\n",
              "      <td>9.0</td>\n",
              "      <td>6.0</td>\n",
              "      <td>6.0</td>\n",
              "      <td>8.0</td>\n",
              "      <td>NaN</td>\n",
              "      <td>NaN</td>\n",
              "      <td>...</td>\n",
              "      <td>2.0</td>\n",
              "      <td>NaN</td>\n",
              "      <td>7.0</td>\n",
              "      <td>9.0</td>\n",
              "      <td>6.0</td>\n",
              "      <td>10.0</td>\n",
              "      <td>7.0</td>\n",
              "      <td>NaN</td>\n",
              "      <td>NaN</td>\n",
              "      <td>NaN</td>\n",
              "    </tr>\n",
              "    <tr>\n",
              "      <th>1</th>\n",
              "      <td>19900</td>\n",
              "      <td>NaN</td>\n",
              "      <td>3.0</td>\n",
              "      <td>3.0</td>\n",
              "      <td>6.0</td>\n",
              "      <td>NaN</td>\n",
              "      <td>3.0</td>\n",
              "      <td>5.0</td>\n",
              "      <td>7.0</td>\n",
              "      <td>9.0</td>\n",
              "      <td>...</td>\n",
              "      <td>NaN</td>\n",
              "      <td>NaN</td>\n",
              "      <td>NaN</td>\n",
              "      <td>5.0</td>\n",
              "      <td>9.0</td>\n",
              "      <td>3.0</td>\n",
              "      <td>0.0</td>\n",
              "      <td>NaN</td>\n",
              "      <td>9.0</td>\n",
              "      <td>2.0</td>\n",
              "    </tr>\n",
              "    <tr>\n",
              "      <th>2</th>\n",
              "      <td>25325</td>\n",
              "      <td>5.0</td>\n",
              "      <td>7.0</td>\n",
              "      <td>NaN</td>\n",
              "      <td>9.0</td>\n",
              "      <td>5.0</td>\n",
              "      <td>6.0</td>\n",
              "      <td>5.0</td>\n",
              "      <td>0.0</td>\n",
              "      <td>NaN</td>\n",
              "      <td>...</td>\n",
              "      <td>NaN</td>\n",
              "      <td>9.0</td>\n",
              "      <td>10.0</td>\n",
              "      <td>NaN</td>\n",
              "      <td>NaN</td>\n",
              "      <td>9.0</td>\n",
              "      <td>0.0</td>\n",
              "      <td>NaN</td>\n",
              "      <td>NaN</td>\n",
              "      <td>7.0</td>\n",
              "    </tr>\n",
              "    <tr>\n",
              "      <th>3</th>\n",
              "      <td>31006</td>\n",
              "      <td>3.0</td>\n",
              "      <td>4.0</td>\n",
              "      <td>1.0</td>\n",
              "      <td>NaN</td>\n",
              "      <td>5.0</td>\n",
              "      <td>NaN</td>\n",
              "      <td>10.0</td>\n",
              "      <td>NaN</td>\n",
              "      <td>8.0</td>\n",
              "      <td>...</td>\n",
              "      <td>3.0</td>\n",
              "      <td>2.0</td>\n",
              "      <td>1.0</td>\n",
              "      <td>3.0</td>\n",
              "      <td>NaN</td>\n",
              "      <td>NaN</td>\n",
              "      <td>2.0</td>\n",
              "      <td>NaN</td>\n",
              "      <td>4.0</td>\n",
              "      <td>2.0</td>\n",
              "    </tr>\n",
              "    <tr>\n",
              "      <th>4</th>\n",
              "      <td>37002</td>\n",
              "      <td>2.0</td>\n",
              "      <td>0.0</td>\n",
              "      <td>5.0</td>\n",
              "      <td>0.0</td>\n",
              "      <td>3.0</td>\n",
              "      <td>5.0</td>\n",
              "      <td>NaN</td>\n",
              "      <td>NaN</td>\n",
              "      <td>NaN</td>\n",
              "      <td>...</td>\n",
              "      <td>9.0</td>\n",
              "      <td>NaN</td>\n",
              "      <td>5.0</td>\n",
              "      <td>3.0</td>\n",
              "      <td>5.0</td>\n",
              "      <td>1.0</td>\n",
              "      <td>6.0</td>\n",
              "      <td>6.0</td>\n",
              "      <td>8.0</td>\n",
              "      <td>NaN</td>\n",
              "    </tr>\n",
              "    <tr>\n",
              "      <th>...</th>\n",
              "      <td>...</td>\n",
              "      <td>...</td>\n",
              "      <td>...</td>\n",
              "      <td>...</td>\n",
              "      <td>...</td>\n",
              "      <td>...</td>\n",
              "      <td>...</td>\n",
              "      <td>...</td>\n",
              "      <td>...</td>\n",
              "      <td>...</td>\n",
              "      <td>...</td>\n",
              "      <td>...</td>\n",
              "      <td>...</td>\n",
              "      <td>...</td>\n",
              "      <td>...</td>\n",
              "      <td>...</td>\n",
              "      <td>...</td>\n",
              "      <td>...</td>\n",
              "      <td>...</td>\n",
              "      <td>...</td>\n",
              "      <td>...</td>\n",
              "    </tr>\n",
              "    <tr>\n",
              "      <th>44995</th>\n",
              "      <td>3964</td>\n",
              "      <td>1.0</td>\n",
              "      <td>NaN</td>\n",
              "      <td>NaN</td>\n",
              "      <td>10.0</td>\n",
              "      <td>8.0</td>\n",
              "      <td>NaN</td>\n",
              "      <td>5.0</td>\n",
              "      <td>9.0</td>\n",
              "      <td>1.0</td>\n",
              "      <td>...</td>\n",
              "      <td>NaN</td>\n",
              "      <td>NaN</td>\n",
              "      <td>9.0</td>\n",
              "      <td>5.0</td>\n",
              "      <td>9.0</td>\n",
              "      <td>4.0</td>\n",
              "      <td>NaN</td>\n",
              "      <td>1.0</td>\n",
              "      <td>NaN</td>\n",
              "      <td>4.0</td>\n",
              "    </tr>\n",
              "    <tr>\n",
              "      <th>44996</th>\n",
              "      <td>17258</td>\n",
              "      <td>3.0</td>\n",
              "      <td>2.0</td>\n",
              "      <td>3.0</td>\n",
              "      <td>7.0</td>\n",
              "      <td>NaN</td>\n",
              "      <td>10.0</td>\n",
              "      <td>9.0</td>\n",
              "      <td>NaN</td>\n",
              "      <td>NaN</td>\n",
              "      <td>...</td>\n",
              "      <td>3.0</td>\n",
              "      <td>NaN</td>\n",
              "      <td>3.0</td>\n",
              "      <td>NaN</td>\n",
              "      <td>NaN</td>\n",
              "      <td>5.0</td>\n",
              "      <td>4.0</td>\n",
              "      <td>NaN</td>\n",
              "      <td>NaN</td>\n",
              "      <td>8.0</td>\n",
              "    </tr>\n",
              "    <tr>\n",
              "      <th>44997</th>\n",
              "      <td>20528</td>\n",
              "      <td>NaN</td>\n",
              "      <td>9.0</td>\n",
              "      <td>NaN</td>\n",
              "      <td>3.0</td>\n",
              "      <td>1.0</td>\n",
              "      <td>NaN</td>\n",
              "      <td>7.0</td>\n",
              "      <td>10.0</td>\n",
              "      <td>10.0</td>\n",
              "      <td>...</td>\n",
              "      <td>3.0</td>\n",
              "      <td>4.0</td>\n",
              "      <td>NaN</td>\n",
              "      <td>NaN</td>\n",
              "      <td>NaN</td>\n",
              "      <td>2.0</td>\n",
              "      <td>10.0</td>\n",
              "      <td>0.0</td>\n",
              "      <td>1.0</td>\n",
              "      <td>4.0</td>\n",
              "    </tr>\n",
              "    <tr>\n",
              "      <th>44998</th>\n",
              "      <td>1875</td>\n",
              "      <td>10.0</td>\n",
              "      <td>NaN</td>\n",
              "      <td>7.0</td>\n",
              "      <td>3.0</td>\n",
              "      <td>3.0</td>\n",
              "      <td>8.0</td>\n",
              "      <td>NaN</td>\n",
              "      <td>8.0</td>\n",
              "      <td>9.0</td>\n",
              "      <td>...</td>\n",
              "      <td>NaN</td>\n",
              "      <td>NaN</td>\n",
              "      <td>NaN</td>\n",
              "      <td>3.0</td>\n",
              "      <td>5.0</td>\n",
              "      <td>NaN</td>\n",
              "      <td>6.0</td>\n",
              "      <td>NaN</td>\n",
              "      <td>8.0</td>\n",
              "      <td>8.0</td>\n",
              "    </tr>\n",
              "    <tr>\n",
              "      <th>44999</th>\n",
              "      <td>985</td>\n",
              "      <td>0.0</td>\n",
              "      <td>7.0</td>\n",
              "      <td>0.0</td>\n",
              "      <td>NaN</td>\n",
              "      <td>NaN</td>\n",
              "      <td>5.0</td>\n",
              "      <td>4.0</td>\n",
              "      <td>NaN</td>\n",
              "      <td>NaN</td>\n",
              "      <td>...</td>\n",
              "      <td>9.0</td>\n",
              "      <td>3.0</td>\n",
              "      <td>10.0</td>\n",
              "      <td>NaN</td>\n",
              "      <td>3.0</td>\n",
              "      <td>8.0</td>\n",
              "      <td>NaN</td>\n",
              "      <td>NaN</td>\n",
              "      <td>2.0</td>\n",
              "      <td>NaN</td>\n",
              "    </tr>\n",
              "  </tbody>\n",
              "</table>\n",
              "<p>45000 rows × 5001 columns</p>\n",
              "</div>"
            ],
            "text/plain": [
              "       Index     0    1    2     3    4     5     6     7     8  ...  4990  \\\n",
              "0      11071   1.0  7.0  1.0   9.0  6.0   6.0   8.0   NaN   NaN  ...   2.0   \n",
              "1      19900   NaN  3.0  3.0   6.0  NaN   3.0   5.0   7.0   9.0  ...   NaN   \n",
              "2      25325   5.0  7.0  NaN   9.0  5.0   6.0   5.0   0.0   NaN  ...   NaN   \n",
              "3      31006   3.0  4.0  1.0   NaN  5.0   NaN  10.0   NaN   8.0  ...   3.0   \n",
              "4      37002   2.0  0.0  5.0   0.0  3.0   5.0   NaN   NaN   NaN  ...   9.0   \n",
              "...      ...   ...  ...  ...   ...  ...   ...   ...   ...   ...  ...   ...   \n",
              "44995   3964   1.0  NaN  NaN  10.0  8.0   NaN   5.0   9.0   1.0  ...   NaN   \n",
              "44996  17258   3.0  2.0  3.0   7.0  NaN  10.0   9.0   NaN   NaN  ...   3.0   \n",
              "44997  20528   NaN  9.0  NaN   3.0  1.0   NaN   7.0  10.0  10.0  ...   3.0   \n",
              "44998   1875  10.0  NaN  7.0   3.0  3.0   8.0   NaN   8.0   9.0  ...   NaN   \n",
              "44999    985   0.0  7.0  0.0   NaN  NaN   5.0   4.0   NaN   NaN  ...   9.0   \n",
              "\n",
              "       4991  4992  4993  4994  4995  4996  4997  4998  4999  \n",
              "0       NaN   7.0   9.0   6.0  10.0   7.0   NaN   NaN   NaN  \n",
              "1       NaN   NaN   5.0   9.0   3.0   0.0   NaN   9.0   2.0  \n",
              "2       9.0  10.0   NaN   NaN   9.0   0.0   NaN   NaN   7.0  \n",
              "3       2.0   1.0   3.0   NaN   NaN   2.0   NaN   4.0   2.0  \n",
              "4       NaN   5.0   3.0   5.0   1.0   6.0   6.0   8.0   NaN  \n",
              "...     ...   ...   ...   ...   ...   ...   ...   ...   ...  \n",
              "44995   NaN   9.0   5.0   9.0   4.0   NaN   1.0   NaN   4.0  \n",
              "44996   NaN   3.0   NaN   NaN   5.0   4.0   NaN   NaN   8.0  \n",
              "44997   4.0   NaN   NaN   NaN   2.0  10.0   0.0   1.0   4.0  \n",
              "44998   NaN   NaN   3.0   5.0   NaN   6.0   NaN   8.0   8.0  \n",
              "44999   3.0  10.0   NaN   3.0   8.0   NaN   NaN   2.0   NaN  \n",
              "\n",
              "[45000 rows x 5001 columns]"
            ]
          },
          "metadata": {
            "tags": []
          },
          "execution_count": 4
        }
      ]
    },
    {
      "cell_type": "markdown",
      "metadata": {
        "id": "aPSxT9Dbv2EW"
      },
      "source": [
        "### Preparing Data for Use\n",
        "\n",
        "* Copy All Data into another DataFrame\n",
        "* Remove the Index Column from the new DataFrame\n",
        "* Find Rows and Columns that should be removed and then drop those [Rows](https://www.geeksforgeeks.org/how-to-drop-rows-in-pandas-dataframe-by-index-labels/) and [Columns](https://www.geeksforgeeks.org/how-to-drop-one-or-multiple-columns-in-pandas-dataframe/)"
      ]
    },
    {
      "cell_type": "code",
      "metadata": {
        "execution": {
          "iopub.execute_input": "2021-07-21T11:37:24.539657Z",
          "iopub.status.busy": "2021-07-21T11:37:24.539316Z",
          "iopub.status.idle": "2021-07-21T11:37:29.009018Z",
          "shell.execute_reply": "2021-07-21T11:37:29.007915Z",
          "shell.execute_reply.started": "2021-07-21T11:37:24.539624Z"
        },
        "id": "3lphXv_LyeM3",
        "outputId": "37efbadf-0150-4ed3-a0e7-dbe21dc03873"
      },
      "source": [
        "my_data = data.copy()\n",
        "# print(my_data.columns)\n",
        "# my_data = my_data.drop(['Index'], axis = 1)\n",
        "# print(my_data.columns)\n",
        "# del data\n",
        "\n",
        "# print(len(my_data['Index'].unique()))\n",
        "dropList = [my_data['Index'][i] for i in range(0, my_data.shape[0]) if int(my_data['Index'][i]) % ind_id == 0]\n",
        "dropRowList = [my_data.index[i] for i in range(0, my_data.shape[0]) if int(my_data['Index'][i]) % ind_id == 0]\n",
        "my_data.drop(dropRowList, inplace = True)\n",
        "# print(len(dropList))\n",
        "# print(dropList)\n",
        "# print(sorted(dropList))\n",
        "\n",
        "i = 0\n",
        "while i < 45000:\n",
        "    i *= 261\n",
        "    if i not in dropList:\n",
        "        print(i, 'not found')\n",
        "    i += 1\n",
        "print(min(dropList))\n",
        "print(max(dropList))\n",
        "\n",
        "my_data = my_data.drop(['Index'], axis = 1)\n",
        "dropColList = [i for i in range(1, my_data.shape[1]) if i % ind_id == 0]\n",
        "my_data.drop(my_data.columns[dropColList], axis = 1, inplace = True)\n",
        "print(sum(my_data.isna().sum()))\n",
        "my_data"
      ],
      "execution_count": null,
      "outputs": [
        {
          "output_type": "stream",
          "text": [
            "68382 not found\n",
            "0\n",
            "49851\n",
            "87550723\n"
          ],
          "name": "stdout"
        },
        {
          "output_type": "execute_result",
          "data": {
            "text/html": [
              "<div>\n",
              "<style scoped>\n",
              "    .dataframe tbody tr th:only-of-type {\n",
              "        vertical-align: middle;\n",
              "    }\n",
              "\n",
              "    .dataframe tbody tr th {\n",
              "        vertical-align: top;\n",
              "    }\n",
              "\n",
              "    .dataframe thead th {\n",
              "        text-align: right;\n",
              "    }\n",
              "</style>\n",
              "<table border=\"1\" class=\"dataframe\">\n",
              "  <thead>\n",
              "    <tr style=\"text-align: right;\">\n",
              "      <th></th>\n",
              "      <th>0</th>\n",
              "      <th>1</th>\n",
              "      <th>2</th>\n",
              "      <th>3</th>\n",
              "      <th>4</th>\n",
              "      <th>5</th>\n",
              "      <th>6</th>\n",
              "      <th>7</th>\n",
              "      <th>8</th>\n",
              "      <th>9</th>\n",
              "      <th>...</th>\n",
              "      <th>4990</th>\n",
              "      <th>4991</th>\n",
              "      <th>4992</th>\n",
              "      <th>4993</th>\n",
              "      <th>4994</th>\n",
              "      <th>4995</th>\n",
              "      <th>4996</th>\n",
              "      <th>4997</th>\n",
              "      <th>4998</th>\n",
              "      <th>4999</th>\n",
              "    </tr>\n",
              "  </thead>\n",
              "  <tbody>\n",
              "    <tr>\n",
              "      <th>0</th>\n",
              "      <td>1.0</td>\n",
              "      <td>7.0</td>\n",
              "      <td>1.0</td>\n",
              "      <td>9.0</td>\n",
              "      <td>6.0</td>\n",
              "      <td>6.0</td>\n",
              "      <td>8.0</td>\n",
              "      <td>NaN</td>\n",
              "      <td>NaN</td>\n",
              "      <td>10.0</td>\n",
              "      <td>...</td>\n",
              "      <td>2.0</td>\n",
              "      <td>NaN</td>\n",
              "      <td>7.0</td>\n",
              "      <td>9.0</td>\n",
              "      <td>6.0</td>\n",
              "      <td>10.0</td>\n",
              "      <td>7.0</td>\n",
              "      <td>NaN</td>\n",
              "      <td>NaN</td>\n",
              "      <td>NaN</td>\n",
              "    </tr>\n",
              "    <tr>\n",
              "      <th>1</th>\n",
              "      <td>NaN</td>\n",
              "      <td>3.0</td>\n",
              "      <td>3.0</td>\n",
              "      <td>6.0</td>\n",
              "      <td>NaN</td>\n",
              "      <td>3.0</td>\n",
              "      <td>5.0</td>\n",
              "      <td>7.0</td>\n",
              "      <td>9.0</td>\n",
              "      <td>NaN</td>\n",
              "      <td>...</td>\n",
              "      <td>NaN</td>\n",
              "      <td>NaN</td>\n",
              "      <td>NaN</td>\n",
              "      <td>5.0</td>\n",
              "      <td>9.0</td>\n",
              "      <td>3.0</td>\n",
              "      <td>0.0</td>\n",
              "      <td>NaN</td>\n",
              "      <td>9.0</td>\n",
              "      <td>2.0</td>\n",
              "    </tr>\n",
              "    <tr>\n",
              "      <th>2</th>\n",
              "      <td>5.0</td>\n",
              "      <td>7.0</td>\n",
              "      <td>NaN</td>\n",
              "      <td>9.0</td>\n",
              "      <td>5.0</td>\n",
              "      <td>6.0</td>\n",
              "      <td>5.0</td>\n",
              "      <td>0.0</td>\n",
              "      <td>NaN</td>\n",
              "      <td>10.0</td>\n",
              "      <td>...</td>\n",
              "      <td>NaN</td>\n",
              "      <td>9.0</td>\n",
              "      <td>10.0</td>\n",
              "      <td>NaN</td>\n",
              "      <td>NaN</td>\n",
              "      <td>9.0</td>\n",
              "      <td>0.0</td>\n",
              "      <td>NaN</td>\n",
              "      <td>NaN</td>\n",
              "      <td>7.0</td>\n",
              "    </tr>\n",
              "    <tr>\n",
              "      <th>3</th>\n",
              "      <td>3.0</td>\n",
              "      <td>4.0</td>\n",
              "      <td>1.0</td>\n",
              "      <td>NaN</td>\n",
              "      <td>5.0</td>\n",
              "      <td>NaN</td>\n",
              "      <td>10.0</td>\n",
              "      <td>NaN</td>\n",
              "      <td>8.0</td>\n",
              "      <td>0.0</td>\n",
              "      <td>...</td>\n",
              "      <td>3.0</td>\n",
              "      <td>2.0</td>\n",
              "      <td>1.0</td>\n",
              "      <td>3.0</td>\n",
              "      <td>NaN</td>\n",
              "      <td>NaN</td>\n",
              "      <td>2.0</td>\n",
              "      <td>NaN</td>\n",
              "      <td>4.0</td>\n",
              "      <td>2.0</td>\n",
              "    </tr>\n",
              "    <tr>\n",
              "      <th>4</th>\n",
              "      <td>2.0</td>\n",
              "      <td>0.0</td>\n",
              "      <td>5.0</td>\n",
              "      <td>0.0</td>\n",
              "      <td>3.0</td>\n",
              "      <td>5.0</td>\n",
              "      <td>NaN</td>\n",
              "      <td>NaN</td>\n",
              "      <td>NaN</td>\n",
              "      <td>0.0</td>\n",
              "      <td>...</td>\n",
              "      <td>9.0</td>\n",
              "      <td>NaN</td>\n",
              "      <td>5.0</td>\n",
              "      <td>3.0</td>\n",
              "      <td>5.0</td>\n",
              "      <td>1.0</td>\n",
              "      <td>6.0</td>\n",
              "      <td>6.0</td>\n",
              "      <td>8.0</td>\n",
              "      <td>NaN</td>\n",
              "    </tr>\n",
              "    <tr>\n",
              "      <th>...</th>\n",
              "      <td>...</td>\n",
              "      <td>...</td>\n",
              "      <td>...</td>\n",
              "      <td>...</td>\n",
              "      <td>...</td>\n",
              "      <td>...</td>\n",
              "      <td>...</td>\n",
              "      <td>...</td>\n",
              "      <td>...</td>\n",
              "      <td>...</td>\n",
              "      <td>...</td>\n",
              "      <td>...</td>\n",
              "      <td>...</td>\n",
              "      <td>...</td>\n",
              "      <td>...</td>\n",
              "      <td>...</td>\n",
              "      <td>...</td>\n",
              "      <td>...</td>\n",
              "      <td>...</td>\n",
              "      <td>...</td>\n",
              "      <td>...</td>\n",
              "    </tr>\n",
              "    <tr>\n",
              "      <th>44995</th>\n",
              "      <td>1.0</td>\n",
              "      <td>NaN</td>\n",
              "      <td>NaN</td>\n",
              "      <td>10.0</td>\n",
              "      <td>8.0</td>\n",
              "      <td>NaN</td>\n",
              "      <td>5.0</td>\n",
              "      <td>9.0</td>\n",
              "      <td>1.0</td>\n",
              "      <td>3.0</td>\n",
              "      <td>...</td>\n",
              "      <td>NaN</td>\n",
              "      <td>NaN</td>\n",
              "      <td>9.0</td>\n",
              "      <td>5.0</td>\n",
              "      <td>9.0</td>\n",
              "      <td>4.0</td>\n",
              "      <td>NaN</td>\n",
              "      <td>1.0</td>\n",
              "      <td>NaN</td>\n",
              "      <td>4.0</td>\n",
              "    </tr>\n",
              "    <tr>\n",
              "      <th>44996</th>\n",
              "      <td>3.0</td>\n",
              "      <td>2.0</td>\n",
              "      <td>3.0</td>\n",
              "      <td>7.0</td>\n",
              "      <td>NaN</td>\n",
              "      <td>10.0</td>\n",
              "      <td>9.0</td>\n",
              "      <td>NaN</td>\n",
              "      <td>NaN</td>\n",
              "      <td>1.0</td>\n",
              "      <td>...</td>\n",
              "      <td>3.0</td>\n",
              "      <td>NaN</td>\n",
              "      <td>3.0</td>\n",
              "      <td>NaN</td>\n",
              "      <td>NaN</td>\n",
              "      <td>5.0</td>\n",
              "      <td>4.0</td>\n",
              "      <td>NaN</td>\n",
              "      <td>NaN</td>\n",
              "      <td>8.0</td>\n",
              "    </tr>\n",
              "    <tr>\n",
              "      <th>44997</th>\n",
              "      <td>NaN</td>\n",
              "      <td>9.0</td>\n",
              "      <td>NaN</td>\n",
              "      <td>3.0</td>\n",
              "      <td>1.0</td>\n",
              "      <td>NaN</td>\n",
              "      <td>7.0</td>\n",
              "      <td>10.0</td>\n",
              "      <td>10.0</td>\n",
              "      <td>NaN</td>\n",
              "      <td>...</td>\n",
              "      <td>3.0</td>\n",
              "      <td>4.0</td>\n",
              "      <td>NaN</td>\n",
              "      <td>NaN</td>\n",
              "      <td>NaN</td>\n",
              "      <td>2.0</td>\n",
              "      <td>10.0</td>\n",
              "      <td>0.0</td>\n",
              "      <td>1.0</td>\n",
              "      <td>4.0</td>\n",
              "    </tr>\n",
              "    <tr>\n",
              "      <th>44998</th>\n",
              "      <td>10.0</td>\n",
              "      <td>NaN</td>\n",
              "      <td>7.0</td>\n",
              "      <td>3.0</td>\n",
              "      <td>3.0</td>\n",
              "      <td>8.0</td>\n",
              "      <td>NaN</td>\n",
              "      <td>8.0</td>\n",
              "      <td>9.0</td>\n",
              "      <td>NaN</td>\n",
              "      <td>...</td>\n",
              "      <td>NaN</td>\n",
              "      <td>NaN</td>\n",
              "      <td>NaN</td>\n",
              "      <td>3.0</td>\n",
              "      <td>5.0</td>\n",
              "      <td>NaN</td>\n",
              "      <td>6.0</td>\n",
              "      <td>NaN</td>\n",
              "      <td>8.0</td>\n",
              "      <td>8.0</td>\n",
              "    </tr>\n",
              "    <tr>\n",
              "      <th>44999</th>\n",
              "      <td>0.0</td>\n",
              "      <td>7.0</td>\n",
              "      <td>0.0</td>\n",
              "      <td>NaN</td>\n",
              "      <td>NaN</td>\n",
              "      <td>5.0</td>\n",
              "      <td>4.0</td>\n",
              "      <td>NaN</td>\n",
              "      <td>NaN</td>\n",
              "      <td>2.0</td>\n",
              "      <td>...</td>\n",
              "      <td>9.0</td>\n",
              "      <td>3.0</td>\n",
              "      <td>10.0</td>\n",
              "      <td>NaN</td>\n",
              "      <td>3.0</td>\n",
              "      <td>8.0</td>\n",
              "      <td>NaN</td>\n",
              "      <td>NaN</td>\n",
              "      <td>2.0</td>\n",
              "      <td>NaN</td>\n",
              "    </tr>\n",
              "  </tbody>\n",
              "</table>\n",
              "<p>44831 rows × 4981 columns</p>\n",
              "</div>"
            ],
            "text/plain": [
              "          0    1    2     3    4     5     6     7     8     9  ...  4990  \\\n",
              "0       1.0  7.0  1.0   9.0  6.0   6.0   8.0   NaN   NaN  10.0  ...   2.0   \n",
              "1       NaN  3.0  3.0   6.0  NaN   3.0   5.0   7.0   9.0   NaN  ...   NaN   \n",
              "2       5.0  7.0  NaN   9.0  5.0   6.0   5.0   0.0   NaN  10.0  ...   NaN   \n",
              "3       3.0  4.0  1.0   NaN  5.0   NaN  10.0   NaN   8.0   0.0  ...   3.0   \n",
              "4       2.0  0.0  5.0   0.0  3.0   5.0   NaN   NaN   NaN   0.0  ...   9.0   \n",
              "...     ...  ...  ...   ...  ...   ...   ...   ...   ...   ...  ...   ...   \n",
              "44995   1.0  NaN  NaN  10.0  8.0   NaN   5.0   9.0   1.0   3.0  ...   NaN   \n",
              "44996   3.0  2.0  3.0   7.0  NaN  10.0   9.0   NaN   NaN   1.0  ...   3.0   \n",
              "44997   NaN  9.0  NaN   3.0  1.0   NaN   7.0  10.0  10.0   NaN  ...   3.0   \n",
              "44998  10.0  NaN  7.0   3.0  3.0   8.0   NaN   8.0   9.0   NaN  ...   NaN   \n",
              "44999   0.0  7.0  0.0   NaN  NaN   5.0   4.0   NaN   NaN   2.0  ...   9.0   \n",
              "\n",
              "       4991  4992  4993  4994  4995  4996  4997  4998  4999  \n",
              "0       NaN   7.0   9.0   6.0  10.0   7.0   NaN   NaN   NaN  \n",
              "1       NaN   NaN   5.0   9.0   3.0   0.0   NaN   9.0   2.0  \n",
              "2       9.0  10.0   NaN   NaN   9.0   0.0   NaN   NaN   7.0  \n",
              "3       2.0   1.0   3.0   NaN   NaN   2.0   NaN   4.0   2.0  \n",
              "4       NaN   5.0   3.0   5.0   1.0   6.0   6.0   8.0   NaN  \n",
              "...     ...   ...   ...   ...   ...   ...   ...   ...   ...  \n",
              "44995   NaN   9.0   5.0   9.0   4.0   NaN   1.0   NaN   4.0  \n",
              "44996   NaN   3.0   NaN   NaN   5.0   4.0   NaN   NaN   8.0  \n",
              "44997   4.0   NaN   NaN   NaN   2.0  10.0   0.0   1.0   4.0  \n",
              "44998   NaN   NaN   3.0   5.0   NaN   6.0   NaN   8.0   8.0  \n",
              "44999   3.0  10.0   NaN   3.0   8.0   NaN   NaN   2.0   NaN  \n",
              "\n",
              "[44831 rows x 4981 columns]"
            ]
          },
          "metadata": {
            "tags": []
          },
          "execution_count": 5
        }
      ]
    },
    {
      "cell_type": "markdown",
      "metadata": {
        "id": "B84Qp5lZxmuz"
      },
      "source": [
        "Given index_id = 261\n",
        "\n",
        "Real Number of Rows = 45000\n",
        "\n",
        "So, Found Number of Rows that should be Removed $= 169$\n",
        "\n",
        "\n",
        "Real Number of Columns = 5000 <font color = 'red'>(Excluding Index Column) </font> \n",
        "\n",
        "So, Number of Columns that should be Removed $= \\lfloor \\frac{5000}{261} \\rfloor = 19$\n",
        "\n",
        "\n",
        "Hence, after removing rows and column, the final DataFrame size should be: \n",
        "\n",
        "$(45000 - 169) \\times (5000 - 19) \\boldsymbol{\\Rightarrow} 44831 \\times 4981$"
      ]
    },
    {
      "cell_type": "markdown",
      "metadata": {
        "id": "cUGYUt0rhMO6"
      },
      "source": [
        "### Getting NumPy Array\n",
        "\n",
        "Converting data to **NumPy** array for future processing"
      ]
    },
    {
      "cell_type": "code",
      "metadata": {
        "execution": {
          "iopub.execute_input": "2021-07-21T11:37:29.011467Z",
          "iopub.status.busy": "2021-07-21T11:37:29.010952Z",
          "iopub.status.idle": "2021-07-21T11:37:35.826979Z",
          "shell.execute_reply": "2021-07-21T11:37:35.825616Z",
          "shell.execute_reply.started": "2021-07-21T11:37:29.011409Z"
        },
        "id": "3m_cwUa22ON6",
        "outputId": "af30556b-dc8b-4b57-ca0c-6d2d16ac5c3b"
      },
      "source": [
        "# tmp_data = np.array(my_data)\n",
        "# print(tmp_data)\n",
        "# del tmp_data\n",
        "\n",
        "my_data = my_data.replace(np.nan, -1)\n",
        "my_data = np.array(my_data, dtype = np.float32)\n",
        "print(my_data)\n",
        "print(sum(sum(my_data)))\n",
        "\n",
        "my_data += 1.\n",
        "print(my_data)\n",
        "print(sum(sum(my_data)))"
      ],
      "execution_count": null,
      "outputs": [
        {
          "output_type": "stream",
          "text": [
            "[[ 1.  7.  1. ... -1. -1. -1.]\n",
            " [-1.  3.  3. ... -1.  9.  2.]\n",
            " [ 5.  7. -1. ... -1. -1.  7.]\n",
            " ...\n",
            " [-1.  9. -1. ...  0.  1.  4.]\n",
            " [10. -1.  7. ... -1.  8.  8.]\n",
            " [ 0.  7.  0. ... -1.  2. -1.]]\n",
            "591199880.0\n",
            "[[ 2.  8.  2. ...  0.  0.  0.]\n",
            " [ 0.  4.  4. ...  0. 10.  3.]\n",
            " [ 6.  8.  0. ...  0.  0.  8.]\n",
            " ...\n",
            " [ 0. 10.  0. ...  1.  2.  5.]\n",
            " [11.  0.  8. ...  0.  9.  9.]\n",
            " [ 1.  8.  1. ...  0.  3.  0.]]\n",
            "814503091.0\n"
          ],
          "name": "stdout"
        }
      ]
    },
    {
      "cell_type": "markdown",
      "metadata": {
        "id": "TPlNP4MnhX0z"
      },
      "source": [
        "### Define Useful Methods\n",
        "\n",
        "Define useful methods for the algorithm"
      ]
    },
    {
      "cell_type": "code",
      "metadata": {
        "execution": {
          "iopub.execute_input": "2021-07-21T11:37:35.82866Z",
          "iopub.status.busy": "2021-07-21T11:37:35.828363Z",
          "iopub.status.idle": "2021-07-21T11:37:35.836241Z",
          "shell.execute_reply": "2021-07-21T11:37:35.834914Z",
          "shell.execute_reply.started": "2021-07-21T11:37:35.82863Z"
        },
        "id": "wxD1OieVGYGj"
      },
      "source": [
        "def updateMatrix(givenData, staticData, regulizer, K):\n",
        "    partA = (staticData.T).dot(staticData) + regulizer * np.eye(k)\n",
        "    partB = givenData.dot(staticData)\n",
        "\n",
        "    return partB.dot(np.linalg.inv(partA))\n",
        "\n",
        "def lossCalc(trueData, predData):\n",
        "    indUse = np.nonzero(trueData)\n",
        "    # print(type(indUse))\n",
        "    errorLib = mean_squared_error(trueData[indUse], predData[indUse])\n",
        "    \n",
        "    # ==== Comparison returned 7.083543050729694e-23 difference\n",
        "    # ==== between library value and calculated value. So, only\n",
        "    # ==== library value is taken for calculation\n",
        "    # errorCus = 0\n",
        "    # num = 0\n",
        "\n",
        "    # for i, j in nonZeroInd:\n",
        "    #   errorCus += (trueData[i][j] - predData[i][j]) ** 2\n",
        "    #   num += 1\n",
        "    # for i in range(trueData.shape[0]):\n",
        "    #   for j in range(trueData.shape[1]):\n",
        "    #     if trueData[i][j] != 0.:\n",
        "    #       errorCus += (trueData[i][j] - predData[i][j]) ** 2\n",
        "    #       num += 1\n",
        "  \n",
        "    # errorCus /= num\n",
        "\n",
        "    # if errorLib != errorCus:\n",
        "        #   print((errorLib - errorCus) ** 2)\n",
        "    return errorLib\n",
        "    # return errorCus"
      ],
      "execution_count": null,
      "outputs": []
    },
    {
      "cell_type": "markdown",
      "metadata": {
        "id": "ytki4Zlxhgnh"
      },
      "source": [
        "### Matrix Factorization\n",
        "\n",
        "The main coding module for **Matrix Factorization**"
      ]
    },
    {
      "cell_type": "code",
      "metadata": {
        "execution": {
          "iopub.execute_input": "2021-07-21T11:37:35.838495Z",
          "iopub.status.busy": "2021-07-21T11:37:35.838013Z"
        },
        "id": "4bSBncOyVEJ0",
        "outputId": "b5c72974-22d2-4e92-df0d-4393c9f97091"
      },
      "source": [
        "N, M = my_data.shape\n",
        "errorVals = []\n",
        "loopK = [100, 1000, 2000, 2500]\n",
        "\n",
        "for k in loopK:\n",
        "    print('Running on K = ' + str(k))\n",
        "    errorVal = []\n",
        "    V = np.zeros((M, k), dtype = np.float32)\n",
        "    np.random.seed(14)\n",
        "    U = np.random.random((N, k)).astype(dtype = np.float32)\n",
        "    U /= sum(sum(U))\n",
        "    # print(U)\n",
        "    # print(sum(sum(U)))\n",
        "    lambdaU = (0.00015 + 0.0001 * (ind_id % 8))\n",
        "    lambdaV = (0.00025 - 0.0001 * (ind_id % 7))\n",
        "\n",
        "    for _ in range(151):\n",
        "        # print(U.shape, V.shape)\n",
        "        V = updateMatrix(my_data.T, U, lambdaV, k)\n",
        "        # print(U.shape, V.shape)\n",
        "        U = updateMatrix(my_data, V, lambdaU, k)\n",
        "        # print(U.shape, V.shape)\n",
        "        errorVal.append(lossCalc(my_data, U.dot(V.T)))\n",
        "        \n",
        "    plt.plot(errorVal, label = 'For the Value of K = ' + str(k))\n",
        "    plt.xlabel('iterations')\n",
        "    plt.ylabel('MSE')\n",
        "    plt.legend(loc = 'best')\n",
        "    plt.show()\n",
        "    \n",
        "    errorVals.append(errorVal)\n",
        "\n",
        "for i, eVal in enumerate(errorVals):\n",
        "    plt.plot(eVal, label = 'K = ' + str(loopK[i]))\n",
        "plt.xlabel('iterations')\n",
        "plt.ylabel('MSE')\n",
        "plt.legend(loc = 'best')\n",
        "plt.show()"
      ],
      "execution_count": null,
      "outputs": [
        {
          "output_type": "stream",
          "text": [
            "Running on K = 100\n"
          ],
          "name": "stdout"
        },
        {
          "output_type": "display_data",
          "data": {
            "image/png": "[encoded data removed]",
            "text/plain": [
              "<Figure size 432x288 with 1 Axes>"
            ]
          },
          "metadata": {
            "tags": [],
            "needs_background": "light"
          }
        },
        {
          "output_type": "stream",
          "text": [
            "Running on K = 1000\n"
          ],
          "name": "stdout"
        },
        {
          "output_type": "display_data",
          "data": {
            "image/png": "[encoded data removed]",
            "text/plain": [
              "<Figure size 432x288 with 1 Axes>"
            ]
          },
          "metadata": {
            "tags": [],
            "needs_background": "light"
          }
        },
        {
          "output_type": "stream",
          "text": [
            "Running on K = 2000\n"
          ],
          "name": "stdout"
        },
        {
          "output_type": "display_data",
          "data": {
            "image/png": "[encoded data removed]",
            "text/plain": [
              "<Figure size 432x288 with 1 Axes>"
            ]
          },
          "metadata": {
            "tags": [],
            "needs_background": "light"
          }
        },
        {
          "output_type": "stream",
          "text": [
            "Running on K = 2500\n"
          ],
          "name": "stdout"
        },
        {
          "output_type": "display_data",
          "data": {
            "image/png": "[encoded data removed]",
            "text/plain": [
              "<Figure size 432x288 with 1 Axes>"
            ]
          },
          "metadata": {
            "tags": [],
            "needs_background": "light"
          }
        },
        {
          "output_type": "display_data",
          "data": {
            "image/png": "[encoded data removed]",
            "text/plain": [
              "<Figure size 432x288 with 1 Axes>"
            ]
          },
          "metadata": {
            "tags": [],
            "needs_background": "light"
          }
        }
      ]
    },
    {
      "cell_type": "code",
      "metadata": {
        "id": "oiomXe6mTAkc",
        "outputId": "0ec7643f-b6a9-48fc-b8b8-4d1be257b6c6"
      },
      "source": [
        "N, M = my_data.shape\n",
        "loopK = [3000, 4000, 5000]\n",
        "\n",
        "for k in loopK:\n",
        "    print('Running on K = ' + str(k))\n",
        "    errorVal = []\n",
        "    V = np.zeros((M, k), dtype = np.float32)\n",
        "    np.random.seed(14)\n",
        "    U = np.random.random((N, k)).astype(dtype = np.float32)\n",
        "    U /= sum(sum(U))\n",
        "    # print(U)\n",
        "    # print(sum(sum(U)))\n",
        "    lambdaU = (0.00015 + 0.0001 * (ind_id % 8))\n",
        "    lambdaV = (0.00025 - 0.0001 * (ind_id % 7))\n",
        "\n",
        "    for _ in range(150):\n",
        "        # print(U.shape, V.shape)\n",
        "        V = updateMatrix(my_data.T, U, lambdaV, k)\n",
        "        # print(U.shape, V.shape)\n",
        "        U = updateMatrix(my_data, V, lambdaU, k)\n",
        "        # print(U.shape, V.shape)\n",
        "        loss = lossCalc(my_data, U.dot(V.T))\n",
        "        errorVal.append(loss)\n",
        "        \n",
        "        if loss < 0.001:\n",
        "            print('Loss has reached a very small value, breaking training')\n",
        "            break\n",
        "        \n",
        "    plt.plot(errorVal, label = 'For the Value of K = ' + str(k))\n",
        "    plt.xlabel('iterations')\n",
        "    plt.ylabel('MSE')\n",
        "    plt.legend(loc = 'best')\n",
        "    plt.show()\n",
        "    \n",
        "    errorVals.append(errorVal)\n",
        "\n",
        "for i, eVal in enumerate(errorVals):\n",
        "    plt.plot(eVal, label = 'K = ' + str(loopK[i]))\n",
        "plt.xlabel('iterations')\n",
        "plt.ylabel('MSE')\n",
        "plt.legend(loc = 'best')\n",
        "plt.show()"
      ],
      "execution_count": null,
      "outputs": [
        {
          "output_type": "stream",
          "text": [
            "Running on K = 3000\n"
          ],
          "name": "stdout"
        },
        {
          "output_type": "display_data",
          "data": {
            "image/png": "[encoded data removed]",
            "text/plain": [
              "<Figure size 432x288 with 1 Axes>"
            ]
          },
          "metadata": {
            "tags": [],
            "needs_background": "light"
          }
        },
        {
          "output_type": "stream",
          "text": [
            "Running on K = 4000\n"
          ],
          "name": "stdout"
        },
        {
          "output_type": "display_data",
          "data": {
            "image/png": "[encoded data removed]",
            "text/plain": [
              "<Figure size 432x288 with 1 Axes>"
            ]
          },
          "metadata": {
            "tags": [],
            "needs_background": "light"
          }
        },
        {
          "output_type": "stream",
          "text": [
            "Running on K = 5000\n",
            "Loss has reached a very small value, breaking training\n"
          ],
          "name": "stdout"
        },
        {
          "output_type": "display_data",
          "data": {
            "image/png": "[encoded data removed]",
            "text/plain": [
              "<Figure size 432x288 with 1 Axes>"
            ]
          },
          "metadata": {
            "tags": [],
            "needs_background": "light"
          }
        },
        {
          "output_type": "error",
          "ename": "IndexError",
          "evalue": "list index out of range",
          "traceback": [
            "\u001b[1;31m---------------------------------------------------------------------------\u001b[0m",
            "\u001b[1;31mIndexError\u001b[0m                                Traceback (most recent call last)",
            "\u001b[1;32m<ipython-input-19-4428a9573c8a>\u001b[0m in \u001b[0;36m<module>\u001b[1;34m\u001b[0m\n\u001b[0;32m     36\u001b[0m \u001b[1;33m\u001b[0m\u001b[0m\n\u001b[0;32m     37\u001b[0m \u001b[1;32mfor\u001b[0m \u001b[0mi\u001b[0m\u001b[1;33m,\u001b[0m \u001b[0meVal\u001b[0m \u001b[1;32min\u001b[0m \u001b[0menumerate\u001b[0m\u001b[1;33m(\u001b[0m\u001b[0merrorVals\u001b[0m\u001b[1;33m)\u001b[0m\u001b[1;33m:\u001b[0m\u001b[1;33m\u001b[0m\u001b[1;33m\u001b[0m\u001b[0m\n\u001b[1;32m---> 38\u001b[1;33m     \u001b[0mplt\u001b[0m\u001b[1;33m.\u001b[0m\u001b[0mplot\u001b[0m\u001b[1;33m(\u001b[0m\u001b[0meVal\u001b[0m\u001b[1;33m,\u001b[0m \u001b[0mlabel\u001b[0m \u001b[1;33m=\u001b[0m \u001b[1;34m'K = '\u001b[0m \u001b[1;33m+\u001b[0m \u001b[0mstr\u001b[0m\u001b[1;33m(\u001b[0m\u001b[0mloopK\u001b[0m\u001b[1;33m[\u001b[0m\u001b[0mi\u001b[0m\u001b[1;33m]\u001b[0m\u001b[1;33m)\u001b[0m\u001b[1;33m)\u001b[0m\u001b[1;33m\u001b[0m\u001b[1;33m\u001b[0m\u001b[0m\n\u001b[0m\u001b[0;32m     39\u001b[0m \u001b[0mplt\u001b[0m\u001b[1;33m.\u001b[0m\u001b[0mxlabel\u001b[0m\u001b[1;33m(\u001b[0m\u001b[1;34m'iterations'\u001b[0m\u001b[1;33m)\u001b[0m\u001b[1;33m\u001b[0m\u001b[1;33m\u001b[0m\u001b[0m\n\u001b[0;32m     40\u001b[0m \u001b[0mplt\u001b[0m\u001b[1;33m.\u001b[0m\u001b[0mylabel\u001b[0m\u001b[1;33m(\u001b[0m\u001b[1;34m'MSE'\u001b[0m\u001b[1;33m)\u001b[0m\u001b[1;33m\u001b[0m\u001b[1;33m\u001b[0m\u001b[0m\n",
            "\u001b[1;31mIndexError\u001b[0m: list index out of range"
          ]
        },
        {
          "output_type": "display_data",
          "data": {
            "image/png": "[encoded data removed]",
            "text/plain": [
              "<Figure size 432x288 with 1 Axes>"
            ]
          },
          "metadata": {
            "tags": [],
            "needs_background": "light"
          }
        }
      ]
    },
    {
      "cell_type": "code",
      "metadata": {
        "id": "lKAEqViHTAkd",
        "outputId": "403eca7e-1add-4e34-9193-037f8089a45c"
      },
      "source": [
        "N, M = my_data.shape\n",
        "loopK = [5000]\n",
        "\n",
        "for k in loopK:\n",
        "    print('Running on K = ' + str(k))\n",
        "    errorVal = []\n",
        "    V = np.zeros((M, k), dtype = np.float32)\n",
        "    np.random.seed(14)\n",
        "    U = np.random.random((N, k)).astype(dtype = np.float32)\n",
        "    U /= sum(sum(U))\n",
        "    # print(U)\n",
        "    # print(sum(sum(U)))\n",
        "    lambdaU = (0.00015 + 0.0001 * (ind_id % 8))\n",
        "    lambdaV = (0.00025 - 0.0001 * (ind_id % 7))\n",
        "\n",
        "    for _ in range(150):\n",
        "        # print(U.shape, V.shape)\n",
        "        V = updateMatrix(my_data.T, U, lambdaV, k)\n",
        "        # print(U.shape, V.shape)\n",
        "        U = updateMatrix(my_data, V, lambdaU, k)\n",
        "        # print(U.shape, V.shape)\n",
        "        loss = lossCalc(my_data, U.dot(V.T))\n",
        "        errorVal.append(loss)\n",
        "        \n",
        "        if loss < 0.001:\n",
        "            print('Loss has reached a very small value, breaking training')\n",
        "        \n",
        "    plt.plot(errorVal, label = 'For the Value of K = ' + str(k))\n",
        "    plt.xlabel('iterations')\n",
        "    plt.ylabel('MSE')\n",
        "    plt.legend(loc = 'best')\n",
        "    plt.show()\n",
        "    \n",
        "    errorVals.append(errorVal)\n",
        "\n",
        "for i, eVal in enumerate(errorVals):\n",
        "    plt.plot(eVal, label = 'K = ' + str(loopK[i]))\n",
        "plt.xlabel('iterations')\n",
        "plt.ylabel('MSE')\n",
        "plt.legend(loc = 'best')\n",
        "plt.show()"
      ],
      "execution_count": null,
      "outputs": [
        {
          "output_type": "stream",
          "text": [
            "Running on K = 5000\n"
          ],
          "name": "stdout"
        }
      ]
    },
    {
      "cell_type": "code",
      "metadata": {
        "id": "38boRVQ4TAke",
        "outputId": "e498af4e-e8a2-4623-e0c4-cd3d5913f0b4"
      },
      "source": [
        "loopK = [100, 1000, 2000, 2500, 3000, 4000, 5000]\n",
        "for i, eVal in enumerate(errorVals):\n",
        "    plt.plot(eVal, label = 'K = ' + str(loopK[i]))\n",
        "plt.xlabel('iterations')\n",
        "plt.ylabel('MSE')\n",
        "plt.legend(loc = 'best')\n",
        "plt.show()\n",
        "\n",
        "loopK = [100, 1000, 2000, 2500, 3000, 4000, 5000]\n",
        "for i, eVal in enumerate(errorVals):\n",
        "    if i < 3:\n",
        "        continue\n",
        "    plt.plot(eVal, label = 'K = ' + str(loopK[i]))\n",
        "plt.xlabel('iterations')\n",
        "plt.ylabel('MSE')\n",
        "plt.legend(loc = 'best')\n",
        "plt.show()"
      ],
      "execution_count": null,
      "outputs": [
        {
          "output_type": "display_data",
          "data": {
            "image/png": "[encoded data removed]",
            "text/plain": [
              "<Figure size 432x288 with 1 Axes>"
            ]
          },
          "metadata": {
            "tags": [],
            "needs_background": "light"
          }
        },
        {
          "output_type": "display_data",
          "data": {
            "image/png": "[encoded data removed]",
            "text/plain": [
              "<Figure size 432x288 with 1 Axes>"
            ]
          },
          "metadata": {
            "tags": [],
            "needs_background": "light"
          }
        }
      ]
    },
    {
      "cell_type": "code",
      "metadata": {
        "id": "aLoXK9XRTAkh"
      },
      "source": [
        "u_df = pd.DataFrame(U)\n",
        "v_df = pd.DataFrame(V)\n",
        "\n",
        "u_df.to_csv('U_Values.csv', index = False)\n",
        "v_df.to_csv('V_Values.csv', index = False)"
      ],
      "execution_count": null,
      "outputs": []
    },
    {
      "cell_type": "code",
      "metadata": {
        "id": "aCtGL4ZQTAkh"
      },
      "source": [
        "for i, eVal in enumerate(errorVals):\n",
        "    with open(str(loopK[i]) + '.txt', 'w') as fle:\n",
        "        fle.write(str(eVal))"
      ],
      "execution_count": null,
      "outputs": []
    },
    {
      "cell_type": "code",
      "metadata": {
        "id": "4BKV8CbMTAkh",
        "outputId": "df3735e1-be50-4987-8501-5216560c5012"
      },
      "source": [
        "# del data\n",
        "# del u_df\n",
        "# del v_df\n",
        "similarity_u = cosine_similarity(U)\n",
        "similarity_v = cosine_similarity(V)\n",
        "\n",
        "print(similarity_u.shape)\n",
        "print(similarity_u)\n",
        "print(similarity_v.shape)\n",
        "print(similarity_v)\n",
        "\n",
        "similarity_u_df = pd.DataFrame(similarity_u)\n",
        "similarity_v_df = pd.DataFrame(similarity_v)\n",
        "\n",
        "similarity_u_df.to_csv('Similarity_U.csv', index = False)\n",
        "similarity_v_df.to_csv('Similarity_V.csv', index = False)"
      ],
      "execution_count": null,
      "outputs": [
        {
          "output_type": "error",
          "ename": "MemoryError",
          "evalue": "Unable to allocate 15.0 GiB for an array with shape (44831, 44831) and data type float64",
          "traceback": [
            "\u001b[1;31m---------------------------------------------------------------------------\u001b[0m",
            "\u001b[1;31mMemoryError\u001b[0m                               Traceback (most recent call last)",
            "\u001b[1;32m<ipython-input-31-77459da52d75>\u001b[0m in \u001b[0;36m<module>\u001b[1;34m\u001b[0m\n\u001b[0;32m      2\u001b[0m \u001b[1;31m# del u_df\u001b[0m\u001b[1;33m\u001b[0m\u001b[1;33m\u001b[0m\u001b[1;33m\u001b[0m\u001b[0m\n\u001b[0;32m      3\u001b[0m \u001b[1;31m# del v_df\u001b[0m\u001b[1;33m\u001b[0m\u001b[1;33m\u001b[0m\u001b[1;33m\u001b[0m\u001b[0m\n\u001b[1;32m----> 4\u001b[1;33m \u001b[0msimilarity_u\u001b[0m \u001b[1;33m=\u001b[0m \u001b[0mcosine_similarity\u001b[0m\u001b[1;33m(\u001b[0m\u001b[0mU\u001b[0m\u001b[1;33m)\u001b[0m\u001b[1;33m\u001b[0m\u001b[1;33m\u001b[0m\u001b[0m\n\u001b[0m\u001b[0;32m      5\u001b[0m \u001b[0msimilarity_v\u001b[0m \u001b[1;33m=\u001b[0m \u001b[0mcosine_similarity\u001b[0m\u001b[1;33m(\u001b[0m\u001b[0mV\u001b[0m\u001b[1;33m)\u001b[0m\u001b[1;33m\u001b[0m\u001b[1;33m\u001b[0m\u001b[0m\n\u001b[0;32m      6\u001b[0m \u001b[1;33m\u001b[0m\u001b[0m\n",
            "\u001b[1;32mG:\\Anaconda\\lib\\site-packages\\sklearn\\metrics\\pairwise.py\u001b[0m in \u001b[0;36mcosine_similarity\u001b[1;34m(X, Y, dense_output)\u001b[0m\n\u001b[0;32m   1187\u001b[0m \u001b[1;33m\u001b[0m\u001b[0m\n\u001b[0;32m   1188\u001b[0m     K = safe_sparse_dot(X_normalized, Y_normalized.T,\n\u001b[1;32m-> 1189\u001b[1;33m                         dense_output=dense_output)\n\u001b[0m\u001b[0;32m   1190\u001b[0m \u001b[1;33m\u001b[0m\u001b[0m\n\u001b[0;32m   1191\u001b[0m     \u001b[1;32mreturn\u001b[0m \u001b[0mK\u001b[0m\u001b[1;33m\u001b[0m\u001b[1;33m\u001b[0m\u001b[0m\n",
            "\u001b[1;32mG:\\Anaconda\\lib\\site-packages\\sklearn\\utils\\validation.py\u001b[0m in \u001b[0;36minner_f\u001b[1;34m(*args, **kwargs)\u001b[0m\n\u001b[0;32m     61\u001b[0m             \u001b[0mextra_args\u001b[0m \u001b[1;33m=\u001b[0m \u001b[0mlen\u001b[0m\u001b[1;33m(\u001b[0m\u001b[0margs\u001b[0m\u001b[1;33m)\u001b[0m \u001b[1;33m-\u001b[0m \u001b[0mlen\u001b[0m\u001b[1;33m(\u001b[0m\u001b[0mall_args\u001b[0m\u001b[1;33m)\u001b[0m\u001b[1;33m\u001b[0m\u001b[1;33m\u001b[0m\u001b[0m\n\u001b[0;32m     62\u001b[0m             \u001b[1;32mif\u001b[0m \u001b[0mextra_args\u001b[0m \u001b[1;33m<=\u001b[0m \u001b[1;36m0\u001b[0m\u001b[1;33m:\u001b[0m\u001b[1;33m\u001b[0m\u001b[1;33m\u001b[0m\u001b[0m\n\u001b[1;32m---> 63\u001b[1;33m                 \u001b[1;32mreturn\u001b[0m \u001b[0mf\u001b[0m\u001b[1;33m(\u001b[0m\u001b[1;33m*\u001b[0m\u001b[0margs\u001b[0m\u001b[1;33m,\u001b[0m \u001b[1;33m**\u001b[0m\u001b[0mkwargs\u001b[0m\u001b[1;33m)\u001b[0m\u001b[1;33m\u001b[0m\u001b[1;33m\u001b[0m\u001b[0m\n\u001b[0m\u001b[0;32m     64\u001b[0m \u001b[1;33m\u001b[0m\u001b[0m\n\u001b[0;32m     65\u001b[0m             \u001b[1;31m# extra_args > 0\u001b[0m\u001b[1;33m\u001b[0m\u001b[1;33m\u001b[0m\u001b[1;33m\u001b[0m\u001b[0m\n",
            "\u001b[1;32mG:\\Anaconda\\lib\\site-packages\\sklearn\\utils\\extmath.py\u001b[0m in \u001b[0;36msafe_sparse_dot\u001b[1;34m(a, b, dense_output)\u001b[0m\n\u001b[0;32m    150\u001b[0m             \u001b[0mret\u001b[0m \u001b[1;33m=\u001b[0m \u001b[0mnp\u001b[0m\u001b[1;33m.\u001b[0m\u001b[0mdot\u001b[0m\u001b[1;33m(\u001b[0m\u001b[0ma\u001b[0m\u001b[1;33m,\u001b[0m \u001b[0mb\u001b[0m\u001b[1;33m)\u001b[0m\u001b[1;33m\u001b[0m\u001b[1;33m\u001b[0m\u001b[0m\n\u001b[0;32m    151\u001b[0m     \u001b[1;32melse\u001b[0m\u001b[1;33m:\u001b[0m\u001b[1;33m\u001b[0m\u001b[1;33m\u001b[0m\u001b[0m\n\u001b[1;32m--> 152\u001b[1;33m         \u001b[0mret\u001b[0m \u001b[1;33m=\u001b[0m \u001b[0ma\u001b[0m \u001b[1;33m@\u001b[0m \u001b[0mb\u001b[0m\u001b[1;33m\u001b[0m\u001b[1;33m\u001b[0m\u001b[0m\n\u001b[0m\u001b[0;32m    153\u001b[0m \u001b[1;33m\u001b[0m\u001b[0m\n\u001b[0;32m    154\u001b[0m     if (sparse.issparse(a) and sparse.issparse(b)\n",
            "\u001b[1;31mMemoryError\u001b[0m: Unable to allocate 15.0 GiB for an array with shape (44831, 44831) and data type float64"
          ]
        }
      ]
    },
    {
      "cell_type": "code",
      "metadata": {
        "id": "p8OpJ_h2TAki"
      },
      "source": [
        "# cosine_sim_u = pd.DataFrame(columns = ['U -> 1', 'U -> 2', 'Cosine Similarity'])\n",
        "# for i in range(U.shape[0]):\n",
        "#     for j in range(i + 1, U.shape[0]):\n",
        "#         sim = cosine_similarity([U[i, :]], [U[j, :]])\n",
        "#         val = [i, j, sim]\n",
        "#         cosine_sim_u.loc[len(cosine_sim_u)] = val\n",
        "# #         print(type(sim))\n",
        "# #         print(sim.shape)\n",
        "# cosine_sim_u.to_csv('Cosine Similarity U.csv', index = False)"
      ],
      "execution_count": null,
      "outputs": []
    },
    {
      "cell_type": "code",
      "metadata": {
        "id": "jLzUrRCPTAkp",
        "outputId": "b71e4682-1ac9-4463-b09a-cc08852f1ff1"
      },
      "source": [
        "cosine_sim_v = pd.DataFrame(columns = ['V -> 1', 'V -> 2', 'Cosine Similarity'])\n",
        "for i in range(V.shape[0]):\n",
        "    for j in range(i + 1, V.shape[0]):\n",
        "        sim = cosine_similarity([V[i, :]], [V[j, :]])\n",
        "        val = [i, j, sim]\n",
        "        cosine_sim_v.loc[len(cosine_sim_v)] = val\n",
        "#         print(type(sim))\n",
        "#         print(sim.shape)\n",
        "cosine_sim_v.to_csv('Cosine Similarity V.csv', index = False)"
      ],
      "execution_count": null,
      "outputs": [
        {
          "output_type": "error",
          "ename": "KeyboardInterrupt",
          "evalue": "",
          "traceback": [
            "\u001b[1;31m---------------------------------------------------------------------------\u001b[0m",
            "\u001b[1;31mKeyboardInterrupt\u001b[0m                         Traceback (most recent call last)",
            "\u001b[1;32m<ipython-input-34-9d8bd2e77074>\u001b[0m in \u001b[0;36m<module>\u001b[1;34m\u001b[0m\n\u001b[0;32m      2\u001b[0m \u001b[1;32mfor\u001b[0m \u001b[0mi\u001b[0m \u001b[1;32min\u001b[0m \u001b[0mrange\u001b[0m\u001b[1;33m(\u001b[0m\u001b[0mV\u001b[0m\u001b[1;33m.\u001b[0m\u001b[0mshape\u001b[0m\u001b[1;33m[\u001b[0m\u001b[1;36m0\u001b[0m\u001b[1;33m]\u001b[0m\u001b[1;33m)\u001b[0m\u001b[1;33m:\u001b[0m\u001b[1;33m\u001b[0m\u001b[1;33m\u001b[0m\u001b[0m\n\u001b[0;32m      3\u001b[0m     \u001b[1;32mfor\u001b[0m \u001b[0mj\u001b[0m \u001b[1;32min\u001b[0m \u001b[0mrange\u001b[0m\u001b[1;33m(\u001b[0m\u001b[0mi\u001b[0m \u001b[1;33m+\u001b[0m \u001b[1;36m1\u001b[0m\u001b[1;33m,\u001b[0m \u001b[0mV\u001b[0m\u001b[1;33m.\u001b[0m\u001b[0mshape\u001b[0m\u001b[1;33m[\u001b[0m\u001b[1;36m0\u001b[0m\u001b[1;33m]\u001b[0m\u001b[1;33m)\u001b[0m\u001b[1;33m:\u001b[0m\u001b[1;33m\u001b[0m\u001b[1;33m\u001b[0m\u001b[0m\n\u001b[1;32m----> 4\u001b[1;33m         \u001b[0msim\u001b[0m \u001b[1;33m=\u001b[0m \u001b[0mcosine_similarity\u001b[0m\u001b[1;33m(\u001b[0m\u001b[1;33m[\u001b[0m\u001b[0mV\u001b[0m\u001b[1;33m[\u001b[0m\u001b[0mi\u001b[0m\u001b[1;33m,\u001b[0m \u001b[1;33m:\u001b[0m\u001b[1;33m]\u001b[0m\u001b[1;33m]\u001b[0m\u001b[1;33m,\u001b[0m \u001b[1;33m[\u001b[0m\u001b[0mV\u001b[0m\u001b[1;33m[\u001b[0m\u001b[0mj\u001b[0m\u001b[1;33m,\u001b[0m \u001b[1;33m:\u001b[0m\u001b[1;33m]\u001b[0m\u001b[1;33m]\u001b[0m\u001b[1;33m)\u001b[0m\u001b[1;33m\u001b[0m\u001b[1;33m\u001b[0m\u001b[0m\n\u001b[0m\u001b[0;32m      5\u001b[0m         \u001b[0mval\u001b[0m \u001b[1;33m=\u001b[0m \u001b[1;33m[\u001b[0m\u001b[0mi\u001b[0m\u001b[1;33m,\u001b[0m \u001b[0mj\u001b[0m\u001b[1;33m,\u001b[0m \u001b[0msim\u001b[0m\u001b[1;33m]\u001b[0m\u001b[1;33m\u001b[0m\u001b[1;33m\u001b[0m\u001b[0m\n\u001b[0;32m      6\u001b[0m         \u001b[0mcosine_sim_v\u001b[0m\u001b[1;33m.\u001b[0m\u001b[0mloc\u001b[0m\u001b[1;33m[\u001b[0m\u001b[0mlen\u001b[0m\u001b[1;33m(\u001b[0m\u001b[0mcosine_sim_v\u001b[0m\u001b[1;33m)\u001b[0m\u001b[1;33m]\u001b[0m \u001b[1;33m=\u001b[0m \u001b[0mval\u001b[0m\u001b[1;33m\u001b[0m\u001b[1;33m\u001b[0m\u001b[0m\n",
            "\u001b[1;32mG:\\Anaconda\\lib\\site-packages\\sklearn\\metrics\\pairwise.py\u001b[0m in \u001b[0;36mcosine_similarity\u001b[1;34m(X, Y, dense_output)\u001b[0m\n\u001b[0;32m   1178\u001b[0m     \u001b[1;31m# to avoid recursive import\u001b[0m\u001b[1;33m\u001b[0m\u001b[1;33m\u001b[0m\u001b[1;33m\u001b[0m\u001b[0m\n\u001b[0;32m   1179\u001b[0m \u001b[1;33m\u001b[0m\u001b[0m\n\u001b[1;32m-> 1180\u001b[1;33m     \u001b[0mX\u001b[0m\u001b[1;33m,\u001b[0m \u001b[0mY\u001b[0m \u001b[1;33m=\u001b[0m \u001b[0mcheck_pairwise_arrays\u001b[0m\u001b[1;33m(\u001b[0m\u001b[0mX\u001b[0m\u001b[1;33m,\u001b[0m \u001b[0mY\u001b[0m\u001b[1;33m)\u001b[0m\u001b[1;33m\u001b[0m\u001b[1;33m\u001b[0m\u001b[0m\n\u001b[0m\u001b[0;32m   1181\u001b[0m \u001b[1;33m\u001b[0m\u001b[0m\n\u001b[0;32m   1182\u001b[0m     \u001b[0mX_normalized\u001b[0m \u001b[1;33m=\u001b[0m \u001b[0mnormalize\u001b[0m\u001b[1;33m(\u001b[0m\u001b[0mX\u001b[0m\u001b[1;33m,\u001b[0m \u001b[0mcopy\u001b[0m\u001b[1;33m=\u001b[0m\u001b[1;32mTrue\u001b[0m\u001b[1;33m)\u001b[0m\u001b[1;33m\u001b[0m\u001b[1;33m\u001b[0m\u001b[0m\n",
            "\u001b[1;32mG:\\Anaconda\\lib\\site-packages\\sklearn\\utils\\validation.py\u001b[0m in \u001b[0;36minner_f\u001b[1;34m(*args, **kwargs)\u001b[0m\n\u001b[0;32m     61\u001b[0m             \u001b[0mextra_args\u001b[0m \u001b[1;33m=\u001b[0m \u001b[0mlen\u001b[0m\u001b[1;33m(\u001b[0m\u001b[0margs\u001b[0m\u001b[1;33m)\u001b[0m \u001b[1;33m-\u001b[0m \u001b[0mlen\u001b[0m\u001b[1;33m(\u001b[0m\u001b[0mall_args\u001b[0m\u001b[1;33m)\u001b[0m\u001b[1;33m\u001b[0m\u001b[1;33m\u001b[0m\u001b[0m\n\u001b[0;32m     62\u001b[0m             \u001b[1;32mif\u001b[0m \u001b[0mextra_args\u001b[0m \u001b[1;33m<=\u001b[0m \u001b[1;36m0\u001b[0m\u001b[1;33m:\u001b[0m\u001b[1;33m\u001b[0m\u001b[1;33m\u001b[0m\u001b[0m\n\u001b[1;32m---> 63\u001b[1;33m                 \u001b[1;32mreturn\u001b[0m \u001b[0mf\u001b[0m\u001b[1;33m(\u001b[0m\u001b[1;33m*\u001b[0m\u001b[0margs\u001b[0m\u001b[1;33m,\u001b[0m \u001b[1;33m**\u001b[0m\u001b[0mkwargs\u001b[0m\u001b[1;33m)\u001b[0m\u001b[1;33m\u001b[0m\u001b[1;33m\u001b[0m\u001b[0m\n\u001b[0m\u001b[0;32m     64\u001b[0m \u001b[1;33m\u001b[0m\u001b[0m\n\u001b[0;32m     65\u001b[0m             \u001b[1;31m# extra_args > 0\u001b[0m\u001b[1;33m\u001b[0m\u001b[1;33m\u001b[0m\u001b[1;33m\u001b[0m\u001b[0m\n",
            "\u001b[1;32mG:\\Anaconda\\lib\\site-packages\\sklearn\\metrics\\pairwise.py\u001b[0m in \u001b[0;36mcheck_pairwise_arrays\u001b[1;34m(X, Y, precomputed, dtype, accept_sparse, force_all_finite, copy)\u001b[0m\n\u001b[0;32m    133\u001b[0m \u001b[1;33m\u001b[0m\u001b[0m\n\u001b[0;32m    134\u001b[0m     \"\"\"\n\u001b[1;32m--> 135\u001b[1;33m     \u001b[0mX\u001b[0m\u001b[1;33m,\u001b[0m \u001b[0mY\u001b[0m\u001b[1;33m,\u001b[0m \u001b[0mdtype_float\u001b[0m \u001b[1;33m=\u001b[0m \u001b[0m_return_float_dtype\u001b[0m\u001b[1;33m(\u001b[0m\u001b[0mX\u001b[0m\u001b[1;33m,\u001b[0m \u001b[0mY\u001b[0m\u001b[1;33m)\u001b[0m\u001b[1;33m\u001b[0m\u001b[1;33m\u001b[0m\u001b[0m\n\u001b[0m\u001b[0;32m    136\u001b[0m \u001b[1;33m\u001b[0m\u001b[0m\n\u001b[0;32m    137\u001b[0m     \u001b[0mestimator\u001b[0m \u001b[1;33m=\u001b[0m \u001b[1;34m'check_pairwise_arrays'\u001b[0m\u001b[1;33m\u001b[0m\u001b[1;33m\u001b[0m\u001b[0m\n",
            "\u001b[1;32mG:\\Anaconda\\lib\\site-packages\\sklearn\\metrics\\pairwise.py\u001b[0m in \u001b[0;36m_return_float_dtype\u001b[1;34m(X, Y)\u001b[0m\n\u001b[0;32m     49\u001b[0m         \u001b[0mY_dtype\u001b[0m \u001b[1;33m=\u001b[0m \u001b[0mX\u001b[0m\u001b[1;33m.\u001b[0m\u001b[0mdtype\u001b[0m\u001b[1;33m\u001b[0m\u001b[1;33m\u001b[0m\u001b[0m\n\u001b[0;32m     50\u001b[0m     \u001b[1;32melif\u001b[0m \u001b[1;32mnot\u001b[0m \u001b[0missparse\u001b[0m\u001b[1;33m(\u001b[0m\u001b[0mY\u001b[0m\u001b[1;33m)\u001b[0m \u001b[1;32mand\u001b[0m \u001b[1;32mnot\u001b[0m \u001b[0misinstance\u001b[0m\u001b[1;33m(\u001b[0m\u001b[0mY\u001b[0m\u001b[1;33m,\u001b[0m \u001b[0mnp\u001b[0m\u001b[1;33m.\u001b[0m\u001b[0mndarray\u001b[0m\u001b[1;33m)\u001b[0m\u001b[1;33m:\u001b[0m\u001b[1;33m\u001b[0m\u001b[1;33m\u001b[0m\u001b[0m\n\u001b[1;32m---> 51\u001b[1;33m         \u001b[0mY\u001b[0m \u001b[1;33m=\u001b[0m \u001b[0mnp\u001b[0m\u001b[1;33m.\u001b[0m\u001b[0masarray\u001b[0m\u001b[1;33m(\u001b[0m\u001b[0mY\u001b[0m\u001b[1;33m)\u001b[0m\u001b[1;33m\u001b[0m\u001b[1;33m\u001b[0m\u001b[0m\n\u001b[0m\u001b[0;32m     52\u001b[0m         \u001b[0mY_dtype\u001b[0m \u001b[1;33m=\u001b[0m \u001b[0mY\u001b[0m\u001b[1;33m.\u001b[0m\u001b[0mdtype\u001b[0m\u001b[1;33m\u001b[0m\u001b[1;33m\u001b[0m\u001b[0m\n\u001b[0;32m     53\u001b[0m     \u001b[1;32melse\u001b[0m\u001b[1;33m:\u001b[0m\u001b[1;33m\u001b[0m\u001b[1;33m\u001b[0m\u001b[0m\n",
            "\u001b[1;32mG:\\Anaconda\\lib\\site-packages\\numpy\\core\\_asarray.py\u001b[0m in \u001b[0;36masarray\u001b[1;34m(a, dtype, order, like)\u001b[0m\n\u001b[0;32m    100\u001b[0m         \u001b[1;32mreturn\u001b[0m \u001b[0m_asarray_with_like\u001b[0m\u001b[1;33m(\u001b[0m\u001b[0ma\u001b[0m\u001b[1;33m,\u001b[0m \u001b[0mdtype\u001b[0m\u001b[1;33m=\u001b[0m\u001b[0mdtype\u001b[0m\u001b[1;33m,\u001b[0m \u001b[0morder\u001b[0m\u001b[1;33m=\u001b[0m\u001b[0morder\u001b[0m\u001b[1;33m,\u001b[0m \u001b[0mlike\u001b[0m\u001b[1;33m=\u001b[0m\u001b[0mlike\u001b[0m\u001b[1;33m)\u001b[0m\u001b[1;33m\u001b[0m\u001b[1;33m\u001b[0m\u001b[0m\n\u001b[0;32m    101\u001b[0m \u001b[1;33m\u001b[0m\u001b[0m\n\u001b[1;32m--> 102\u001b[1;33m     \u001b[1;32mreturn\u001b[0m \u001b[0marray\u001b[0m\u001b[1;33m(\u001b[0m\u001b[0ma\u001b[0m\u001b[1;33m,\u001b[0m \u001b[0mdtype\u001b[0m\u001b[1;33m,\u001b[0m \u001b[0mcopy\u001b[0m\u001b[1;33m=\u001b[0m\u001b[1;32mFalse\u001b[0m\u001b[1;33m,\u001b[0m \u001b[0morder\u001b[0m\u001b[1;33m=\u001b[0m\u001b[0morder\u001b[0m\u001b[1;33m)\u001b[0m\u001b[1;33m\u001b[0m\u001b[1;33m\u001b[0m\u001b[0m\n\u001b[0m\u001b[0;32m    103\u001b[0m \u001b[1;33m\u001b[0m\u001b[0m\n\u001b[0;32m    104\u001b[0m \u001b[1;33m\u001b[0m\u001b[0m\n",
            "\u001b[1;31mKeyboardInterrupt\u001b[0m: "
          ]
        }
      ]
    },
    {
      "cell_type": "code",
      "metadata": {
        "id": "r5Bgnv5XTAkq"
      },
      "source": [
        "cosine_sim_v.to_csv('Cosine Similarity V.csv', index = False)"
      ],
      "execution_count": null,
      "outputs": []
    },
    {
      "cell_type": "code",
      "metadata": {
        "id": "yHgMm0mETAkq"
      },
      "source": [
        "U = pd.read_csv('U_Values.csv')\n",
        "V = pd.read_csv('V_Values.csv')\n",
        "\n",
        "U = np.array(U)\n",
        "V = np.array(V)"
      ],
      "execution_count": null,
      "outputs": []
    },
    {
      "cell_type": "code",
      "metadata": {
        "id": "3b4fBo3TTAkr"
      },
      "source": [
        "# cnt = 0\n",
        "# val = U.dot(V.T)\n",
        "# print(val.shape)\n",
        "# for i in range(my_data.shape[0]):\n",
        "#     for j in range(my_data.shape[1]):\n",
        "#         if my_data[i][j] == 0:\n",
        "#             print(val[i][j])\n",
        "#             if val[i][j] >= 1.0:\n",
        "#                 print('Review of Movie ', j , 'by user 11071 is', val[0][j] - 1)\n",
        "#                 cnt += 1\n",
        "#                 if cnt == 5:\n",
        "#                     break\n",
        "#     print(\"End Row\")"
      ],
      "execution_count": null,
      "outputs": []
    },
    {
      "cell_type": "markdown",
      "metadata": {
        "id": "9bAAI9_p1NHX"
      },
      "source": [
        "<br><br>\n",
        "<center><font color = 'yellow'>$\\LARGE{\\text{The END}}$</font><center>"
      ]
    }
  ]
}